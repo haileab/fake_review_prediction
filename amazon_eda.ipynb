{
 "cells": [
  {
   "cell_type": "code",
   "execution_count": 2,
   "metadata": {},
   "outputs": [],
   "source": [
    "import pandas as pd\n",
    "import matplotlib.pyplot as plt\n",
    "%matplotlib inline"
   ]
  },
  {
   "cell_type": "code",
   "execution_count": 3,
   "metadata": {},
   "outputs": [
    {
     "name": "stderr",
     "output_type": "stream",
     "text": [
      "b'Skipping line 2: expected 1 fields, saw 5\\nSkipping line 3: expected 1 fields, saw 61\\nSkipping line 4: expected 1 fields, saw 14\\nSkipping line 5: expected 1 fields, saw 49\\nSkipping line 6: expected 1 fields, saw 61\\nSkipping line 7: expected 1 fields, saw 27\\nSkipping line 8: expected 1 fields, saw 22\\nSkipping line 9: expected 1 fields, saw 13\\nSkipping line 10: expected 1 fields, saw 9\\nSkipping line 11: expected 1 fields, saw 23\\nSkipping line 12: expected 1 fields, saw 19\\nSkipping line 13: expected 1 fields, saw 26\\nSkipping line 14: expected 1 fields, saw 6\\nSkipping line 15: expected 1 fields, saw 7\\nSkipping line 16: expected 1 fields, saw 51\\nSkipping line 17: expected 1 fields, saw 14\\nSkipping line 18: expected 1 fields, saw 161\\nSkipping line 19: expected 1 fields, saw 24\\nSkipping line 20: expected 1 fields, saw 79\\nSkipping line 21: expected 1 fields, saw 50\\nSkipping line 22: expected 1 fields, saw 29\\nSkipping line 23: expected 1 fields, saw 54\\nSkipping line 24: expected 1 fields, saw 89\\nSkipping line 25: expected 1 fields, saw 47\\nSkipping line 26: expected 1 fields, saw 177\\nSkipping line 27: expected 1 fields, saw 6\\nSkipping line 28: expected 1 fields, saw 14\\nSkipping line 29: expected 1 fields, saw 20\\nSkipping line 30: expected 1 fields, saw 109\\nSkipping line 31: expected 1 fields, saw 51\\nSkipping line 32: expected 1 fields, saw 83\\nSkipping line 33: expected 1 fields, saw 40\\nSkipping line 34: expected 1 fields, saw 21\\nSkipping line 35: expected 1 fields, saw 191\\nSkipping line 36: expected 1 fields, saw 13\\nSkipping line 37: expected 1 fields, saw 14\\nSkipping line 38: expected 1 fields, saw 22\\nSkipping line 39: expected 1 fields, saw 44\\nSkipping line 40: expected 1 fields, saw 114\\nSkipping line 41: expected 1 fields, saw 18\\nSkipping line 42: expected 1 fields, saw 16\\nSkipping line 43: expected 1 fields, saw 10\\nSkipping line 44: expected 1 fields, saw 15\\nSkipping line 45: expected 1 fields, saw 91\\nSkipping line 46: expected 1 fields, saw 17\\nSkipping line 47: expected 1 fields, saw 13\\nSkipping line 48: expected 1 fields, saw 71\\nSkipping line 49: expected 1 fields, saw 9\\nSkipping line 50: expected 1 fields, saw 12\\n'\n"
     ]
    }
   ],
   "source": [
    "df = pd.read_csv(\"Data/Amazon/sample_us.tsv\", header=None, sep=\" \", error_bad_lines=False)"
   ]
  },
  {
   "cell_type": "code",
   "execution_count": 4,
   "metadata": {},
   "outputs": [
    {
     "data": {
      "text/html": [
       "<div>\n",
       "<style scoped>\n",
       "    .dataframe tbody tr th:only-of-type {\n",
       "        vertical-align: middle;\n",
       "    }\n",
       "\n",
       "    .dataframe tbody tr th {\n",
       "        vertical-align: top;\n",
       "    }\n",
       "\n",
       "    .dataframe thead th {\n",
       "        text-align: right;\n",
       "    }\n",
       "</style>\n",
       "<table border=\"1\" class=\"dataframe\">\n",
       "  <thead>\n",
       "    <tr style=\"text-align: right;\">\n",
       "      <th></th>\n",
       "      <th>0</th>\n",
       "    </tr>\n",
       "  </thead>\n",
       "  <tbody>\n",
       "    <tr>\n",
       "      <th>0</th>\n",
       "      <td>marketplace\\tcustomer_id\\treview_id\\tproduct_i...</td>\n",
       "    </tr>\n",
       "  </tbody>\n",
       "</table>\n",
       "</div>"
      ],
      "text/plain": [
       "                                                   0\n",
       "0  marketplace\\tcustomer_id\\treview_id\\tproduct_i..."
      ]
     },
     "execution_count": 4,
     "metadata": {},
     "output_type": "execute_result"
    }
   ],
   "source": [
    "df.head()"
   ]
  },
  {
   "cell_type": "code",
   "execution_count": null,
   "metadata": {},
   "outputs": [],
   "source": [
    "#Havon"
   ]
  }
 ],
 "metadata": {
  "kernelspec": {
   "display_name": "Python 3",
   "language": "python",
   "name": "python3"
  },
  "language_info": {
   "codemirror_mode": {
    "name": "ipython",
    "version": 3
   },
   "file_extension": ".py",
   "mimetype": "text/x-python",
   "name": "python",
   "nbconvert_exporter": "python",
   "pygments_lexer": "ipython3",
   "version": "3.6.5"
  }
 },
 "nbformat": 4,
 "nbformat_minor": 2
}
