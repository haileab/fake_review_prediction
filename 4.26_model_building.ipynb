{
 "cells": [
  {
   "cell_type": "code",
   "execution_count": 3,
   "metadata": {},
   "outputs": [
    {
     "name": "stdout",
     "output_type": "stream",
     "text": [
      "The autoreload extension is already loaded. To reload it, use:\n",
      "  %reload_ext autoreload\n"
     ]
    }
   ],
   "source": [
    "import pandas as pd\n",
    "import matplotlib.pyplot as plt\n",
    "import numpy as np \n",
    "import seaborn as sns\n",
    "%load_ext autoreload\n",
    "%autoreload 2\n",
    "\n",
    "%matplotlib inline"
   ]
  },
  {
   "cell_type": "code",
   "execution_count": 4,
   "metadata": {},
   "outputs": [
    {
     "name": "stderr",
     "output_type": "stream",
     "text": [
      "/Users/HZB/galv/capstone/cleaner.py:61: FutureWarning: 'comp_id' is both a column name and an index level.\n",
      "Defaulting to column but this will raise an ambiguity error in a future version\n",
      "  cumsum2 = clean_df.groupby(by=['comp_id', 'date','userID']).sum().groupby(level=[0]).cumsum()\n",
      "/Users/HZB/galv/capstone/cleaner.py:61: FutureWarning: 'date' is both a column name and an index level.\n",
      "Defaulting to column but this will raise an ambiguity error in a future version\n",
      "  cumsum2 = clean_df.groupby(by=['comp_id', 'date','userID']).sum().groupby(level=[0]).cumsum()\n",
      "/Users/HZB/galv/capstone/cleaner.py:61: FutureWarning: 'userID' is both a column name and an index level.\n",
      "Defaulting to column but this will raise an ambiguity error in a future version\n",
      "  cumsum2 = clean_df.groupby(by=['comp_id', 'date','userID']).sum().groupby(level=[0]).cumsum()\n",
      "/Users/HZB/galv/capstone/cleaner.py:69: FutureWarning: 'userID' is both a column name and an index level.\n",
      "Defaulting to column but this will raise an ambiguity error in a future version\n",
      "  cumsum2 = df5.groupby(by=['userID','date', 'comp_id']).sum().groupby(level=[0]).cumsum()\n",
      "/Users/HZB/galv/capstone/cleaner.py:69: FutureWarning: 'date' is both a column name and an index level.\n",
      "Defaulting to column but this will raise an ambiguity error in a future version\n",
      "  cumsum2 = df5.groupby(by=['userID','date', 'comp_id']).sum().groupby(level=[0]).cumsum()\n",
      "/Users/HZB/galv/capstone/cleaner.py:69: FutureWarning: 'comp_id' is both a column name and an index level.\n",
      "Defaulting to column but this will raise an ambiguity error in a future version\n",
      "  cumsum2 = df5.groupby(by=['userID','date', 'comp_id']).sum().groupby(level=[0]).cumsum()\n"
     ]
    }
   ],
   "source": [
    "import cleaner\n",
    "df = cleaner.cleanholdout()\n",
    "df = cleaner.cumulator(df)"
   ]
  },
  {
   "cell_type": "code",
   "execution_count": 5,
   "metadata": {},
   "outputs": [
    {
     "data": {
      "text/html": [
       "<div>\n",
       "<style scoped>\n",
       "    .dataframe tbody tr th:only-of-type {\n",
       "        vertical-align: middle;\n",
       "    }\n",
       "\n",
       "    .dataframe tbody tr th {\n",
       "        vertical-align: top;\n",
       "    }\n",
       "\n",
       "    .dataframe thead th {\n",
       "        text-align: right;\n",
       "    }\n",
       "</style>\n",
       "<table border=\"1\" class=\"dataframe\">\n",
       "  <thead>\n",
       "    <tr style=\"text-align: right;\">\n",
       "      <th></th>\n",
       "      <th></th>\n",
       "      <th></th>\n",
       "      <th>userID</th>\n",
       "      <th>comp_id</th>\n",
       "      <th>rating</th>\n",
       "      <th>filtered</th>\n",
       "      <th>date</th>\n",
       "      <th>user_id</th>\n",
       "      <th>user-comp</th>\n",
       "      <th>review_text</th>\n",
       "      <th>comp_name</th>\n",
       "      <th>review_length</th>\n",
       "      <th>biz_rvws</th>\n",
       "      <th>user_rvws</th>\n",
       "      <th>avg_rating</th>\n",
       "      <th>past_filt</th>\n",
       "      <th>percent_filt</th>\n",
       "      <th>avg_rev_len</th>\n",
       "    </tr>\n",
       "    <tr>\n",
       "      <th>userID</th>\n",
       "      <th>date</th>\n",
       "      <th>comp_id</th>\n",
       "      <th></th>\n",
       "      <th></th>\n",
       "      <th></th>\n",
       "      <th></th>\n",
       "      <th></th>\n",
       "      <th></th>\n",
       "      <th></th>\n",
       "      <th></th>\n",
       "      <th></th>\n",
       "      <th></th>\n",
       "      <th></th>\n",
       "      <th></th>\n",
       "      <th></th>\n",
       "      <th></th>\n",
       "      <th></th>\n",
       "      <th></th>\n",
       "    </tr>\n",
       "  </thead>\n",
       "  <tbody>\n",
       "    <tr>\n",
       "      <th>30262</th>\n",
       "      <th>2004-10-20</th>\n",
       "      <th>468</th>\n",
       "      <td>30262</td>\n",
       "      <td>468</td>\n",
       "      <td>4.0</td>\n",
       "      <td>0</td>\n",
       "      <td>2004-10-20</td>\n",
       "      <td>VSKUlW-uL7E3nf4dxs5cSw</td>\n",
       "      <td>30262-468</td>\n",
       "      <td>Excellent Soup Dumplings. It's a must if you g...</td>\n",
       "      <td>Joe’s Shanghai</td>\n",
       "      <td>214</td>\n",
       "      <td>1</td>\n",
       "      <td>1</td>\n",
       "      <td>4.0</td>\n",
       "      <td>0</td>\n",
       "      <td>0.0</td>\n",
       "      <td>214.0</td>\n",
       "    </tr>\n",
       "    <tr>\n",
       "      <th>107234</th>\n",
       "      <th>2004-11-02</th>\n",
       "      <th>510</th>\n",
       "      <td>107234</td>\n",
       "      <td>510</td>\n",
       "      <td>4.0</td>\n",
       "      <td>0</td>\n",
       "      <td>2004-11-02</td>\n",
       "      <td>EnmELstQQKBwlQ1VKJn7wQ</td>\n",
       "      <td>107234-510</td>\n",
       "      <td>One of the best hidden no-name neighborhood pl...</td>\n",
       "      <td>Cafe Habana</td>\n",
       "      <td>496</td>\n",
       "      <td>1</td>\n",
       "      <td>1</td>\n",
       "      <td>4.0</td>\n",
       "      <td>0</td>\n",
       "      <td>0.0</td>\n",
       "      <td>496.0</td>\n",
       "    </tr>\n",
       "    <tr>\n",
       "      <th>19015</th>\n",
       "      <th>2004-12-09</th>\n",
       "      <th>142</th>\n",
       "      <td>19015</td>\n",
       "      <td>142</td>\n",
       "      <td>5.0</td>\n",
       "      <td>0</td>\n",
       "      <td>2004-12-09</td>\n",
       "      <td>THUzhkWhdXO92axNzw9L0w</td>\n",
       "      <td>19015-142</td>\n",
       "      <td>Really lovely Italian food, very simple and we...</td>\n",
       "      <td>Supper</td>\n",
       "      <td>346</td>\n",
       "      <td>1</td>\n",
       "      <td>1</td>\n",
       "      <td>5.0</td>\n",
       "      <td>0</td>\n",
       "      <td>0.0</td>\n",
       "      <td>346.0</td>\n",
       "    </tr>\n",
       "    <tr>\n",
       "      <th>116117</th>\n",
       "      <th>2005-03-02</th>\n",
       "      <th>708</th>\n",
       "      <td>116117</td>\n",
       "      <td>708</td>\n",
       "      <td>5.0</td>\n",
       "      <td>0</td>\n",
       "      <td>2005-03-02</td>\n",
       "      <td>DoBupYIzLs0c8ataxQhE5w</td>\n",
       "      <td>116117-708</td>\n",
       "      <td>Mario Batali at his best, this is my current f...</td>\n",
       "      <td>Lupa</td>\n",
       "      <td>60</td>\n",
       "      <td>1</td>\n",
       "      <td>1</td>\n",
       "      <td>5.0</td>\n",
       "      <td>0</td>\n",
       "      <td>0.0</td>\n",
       "      <td>60.0</td>\n",
       "    </tr>\n",
       "    <tr>\n",
       "      <th>59929</th>\n",
       "      <th>2005-03-07</th>\n",
       "      <th>454</th>\n",
       "      <td>59929</td>\n",
       "      <td>454</td>\n",
       "      <td>5.0</td>\n",
       "      <td>0</td>\n",
       "      <td>2005-03-07</td>\n",
       "      <td>qfw0omIA2Cthnq0AxZablA</td>\n",
       "      <td>59929-454</td>\n",
       "      <td>Best place for brunch if you can handle the wa...</td>\n",
       "      <td>Cafeteria</td>\n",
       "      <td>85</td>\n",
       "      <td>1</td>\n",
       "      <td>1</td>\n",
       "      <td>5.0</td>\n",
       "      <td>0</td>\n",
       "      <td>0.0</td>\n",
       "      <td>85.0</td>\n",
       "    </tr>\n",
       "  </tbody>\n",
       "</table>\n",
       "</div>"
      ],
      "text/plain": [
       "                           userID  comp_id  rating  filtered       date  \\\n",
       "userID date       comp_id                                                 \n",
       "30262  2004-10-20 468       30262      468     4.0         0 2004-10-20   \n",
       "107234 2004-11-02 510      107234      510     4.0         0 2004-11-02   \n",
       "19015  2004-12-09 142       19015      142     5.0         0 2004-12-09   \n",
       "116117 2005-03-02 708      116117      708     5.0         0 2005-03-02   \n",
       "59929  2005-03-07 454       59929      454     5.0         0 2005-03-07   \n",
       "\n",
       "                                          user_id   user-comp  \\\n",
       "userID date       comp_id                                       \n",
       "30262  2004-10-20 468      VSKUlW-uL7E3nf4dxs5cSw   30262-468   \n",
       "107234 2004-11-02 510      EnmELstQQKBwlQ1VKJn7wQ  107234-510   \n",
       "19015  2004-12-09 142      THUzhkWhdXO92axNzw9L0w   19015-142   \n",
       "116117 2005-03-02 708      DoBupYIzLs0c8ataxQhE5w  116117-708   \n",
       "59929  2005-03-07 454      qfw0omIA2Cthnq0AxZablA   59929-454   \n",
       "\n",
       "                                                                 review_text  \\\n",
       "userID date       comp_id                                                      \n",
       "30262  2004-10-20 468      Excellent Soup Dumplings. It's a must if you g...   \n",
       "107234 2004-11-02 510      One of the best hidden no-name neighborhood pl...   \n",
       "19015  2004-12-09 142      Really lovely Italian food, very simple and we...   \n",
       "116117 2005-03-02 708      Mario Batali at his best, this is my current f...   \n",
       "59929  2005-03-07 454      Best place for brunch if you can handle the wa...   \n",
       "\n",
       "                                comp_name  review_length  biz_rvws  user_rvws  \\\n",
       "userID date       comp_id                                                       \n",
       "30262  2004-10-20 468      Joe’s Shanghai            214         1          1   \n",
       "107234 2004-11-02 510         Cafe Habana            496         1          1   \n",
       "19015  2004-12-09 142              Supper            346         1          1   \n",
       "116117 2005-03-02 708                Lupa             60         1          1   \n",
       "59929  2005-03-07 454           Cafeteria             85         1          1   \n",
       "\n",
       "                           avg_rating  past_filt  percent_filt  avg_rev_len  \n",
       "userID date       comp_id                                                    \n",
       "30262  2004-10-20 468             4.0          0           0.0        214.0  \n",
       "107234 2004-11-02 510             4.0          0           0.0        496.0  \n",
       "19015  2004-12-09 142             5.0          0           0.0        346.0  \n",
       "116117 2005-03-02 708             5.0          0           0.0         60.0  \n",
       "59929  2005-03-07 454             5.0          0           0.0         85.0  "
      ]
     },
     "execution_count": 5,
     "metadata": {},
     "output_type": "execute_result"
    }
   ],
   "source": [
    "df.head()"
   ]
  },
  {
   "cell_type": "code",
   "execution_count": 72,
   "metadata": {},
   "outputs": [
    {
     "name": "stderr",
     "output_type": "stream",
     "text": [
      "/anaconda3/lib/python3.6/site-packages/ipykernel_launcher.py:3: FutureWarning: 'userID' is both a column name and an index level.\n",
      "Defaulting to column but this will raise an ambiguity error in a future version\n",
      "  This is separate from the ipykernel package so we can avoid doing imports until\n",
      "/anaconda3/lib/python3.6/site-packages/ipykernel_launcher.py:3: FutureWarning: 'date' is both a column name and an index level.\n",
      "Defaulting to column but this will raise an ambiguity error in a future version\n",
      "  This is separate from the ipykernel package so we can avoid doing imports until\n",
      "/anaconda3/lib/python3.6/site-packages/ipykernel_launcher.py:3: FutureWarning: 'comp_id' is both a column name and an index level.\n",
      "Defaulting to column but this will raise an ambiguity error in a future version\n",
      "  This is separate from the ipykernel package so we can avoid doing imports until\n"
     ]
    }
   ],
   "source": [
    "df5 = df.set_index(['userID','date', 'comp_id'], inplace=False, drop=False)\n",
    "df5['user_rvws'] =1\n",
    "cumsum2 = df5.groupby(by=['userID','date', 'comp_id']).sum().groupby(level=[0]).cumsum()\n",
    "df5 = df5.drop('user_rvws', axis=1)\n",
    "cumsum2['avg_rating'] = cumsum2['rating']/cumsum2['user_rvws']\n",
    "\n",
    "cumsum2['past_filt'] = cumsum2['filtered']\n",
    "cumsum2.loc[cumsum2['filtered'] > 0, 'past_filt'] -= 1\n",
    "\n",
    "cumsum2['percent_filt'] = cumsum2['past_filt']/cumsum2['user_rvws']\n",
    "cumsum2['avg_rev_len'] = cumsum2['review_length']/cumsum2['user_rvws']\n",
    "cumsum2 = cumsum2.drop(['rating', 'review_length','biz_rvws','filtered'], axis=1)\n",
    "df6 = df5.join(cumsum2, how='left', lsuffix='_left', rsuffix='_right')\n"
   ]
  },
  {
   "cell_type": "code",
   "execution_count": 77,
   "metadata": {
    "scrolled": true
   },
   "outputs": [
    {
     "data": {
      "text/html": [
       "<div>\n",
       "<style scoped>\n",
       "    .dataframe tbody tr th:only-of-type {\n",
       "        vertical-align: middle;\n",
       "    }\n",
       "\n",
       "    .dataframe tbody tr th {\n",
       "        vertical-align: top;\n",
       "    }\n",
       "\n",
       "    .dataframe thead th {\n",
       "        text-align: right;\n",
       "    }\n",
       "</style>\n",
       "<table border=\"1\" class=\"dataframe\">\n",
       "  <thead>\n",
       "    <tr style=\"text-align: right;\">\n",
       "      <th></th>\n",
       "      <th>userID</th>\n",
       "      <th>comp_id</th>\n",
       "      <th>rating</th>\n",
       "      <th>filtered</th>\n",
       "      <th>date</th>\n",
       "      <th>user_id</th>\n",
       "      <th>user-comp</th>\n",
       "      <th>review_text</th>\n",
       "      <th>comp_name</th>\n",
       "      <th>review_length</th>\n",
       "      <th>biz_rvws</th>\n",
       "      <th>user_rvws</th>\n",
       "      <th>avg_rating</th>\n",
       "      <th>past_filt</th>\n",
       "      <th>percent_filt</th>\n",
       "      <th>avg_rev_len</th>\n",
       "    </tr>\n",
       "  </thead>\n",
       "  <tbody>\n",
       "    <tr>\n",
       "      <th>0</th>\n",
       "      <td>30262</td>\n",
       "      <td>468</td>\n",
       "      <td>4.0</td>\n",
       "      <td>0</td>\n",
       "      <td>2004-10-20</td>\n",
       "      <td>VSKUlW-uL7E3nf4dxs5cSw</td>\n",
       "      <td>30262-468</td>\n",
       "      <td>Excellent Soup Dumplings. It's a must if you g...</td>\n",
       "      <td>Joe’s Shanghai</td>\n",
       "      <td>214</td>\n",
       "      <td>1</td>\n",
       "      <td>1</td>\n",
       "      <td>4.0</td>\n",
       "      <td>0</td>\n",
       "      <td>0.0</td>\n",
       "      <td>214.0</td>\n",
       "    </tr>\n",
       "    <tr>\n",
       "      <th>1</th>\n",
       "      <td>107234</td>\n",
       "      <td>510</td>\n",
       "      <td>4.0</td>\n",
       "      <td>0</td>\n",
       "      <td>2004-11-02</td>\n",
       "      <td>EnmELstQQKBwlQ1VKJn7wQ</td>\n",
       "      <td>107234-510</td>\n",
       "      <td>One of the best hidden no-name neighborhood pl...</td>\n",
       "      <td>Cafe Habana</td>\n",
       "      <td>496</td>\n",
       "      <td>1</td>\n",
       "      <td>1</td>\n",
       "      <td>4.0</td>\n",
       "      <td>0</td>\n",
       "      <td>0.0</td>\n",
       "      <td>496.0</td>\n",
       "    </tr>\n",
       "    <tr>\n",
       "      <th>2</th>\n",
       "      <td>19015</td>\n",
       "      <td>142</td>\n",
       "      <td>5.0</td>\n",
       "      <td>0</td>\n",
       "      <td>2004-12-09</td>\n",
       "      <td>THUzhkWhdXO92axNzw9L0w</td>\n",
       "      <td>19015-142</td>\n",
       "      <td>Really lovely Italian food, very simple and we...</td>\n",
       "      <td>Supper</td>\n",
       "      <td>346</td>\n",
       "      <td>1</td>\n",
       "      <td>1</td>\n",
       "      <td>5.0</td>\n",
       "      <td>0</td>\n",
       "      <td>0.0</td>\n",
       "      <td>346.0</td>\n",
       "    </tr>\n",
       "    <tr>\n",
       "      <th>3</th>\n",
       "      <td>116117</td>\n",
       "      <td>708</td>\n",
       "      <td>5.0</td>\n",
       "      <td>0</td>\n",
       "      <td>2005-03-02</td>\n",
       "      <td>DoBupYIzLs0c8ataxQhE5w</td>\n",
       "      <td>116117-708</td>\n",
       "      <td>Mario Batali at his best, this is my current f...</td>\n",
       "      <td>Lupa</td>\n",
       "      <td>60</td>\n",
       "      <td>1</td>\n",
       "      <td>1</td>\n",
       "      <td>5.0</td>\n",
       "      <td>0</td>\n",
       "      <td>0.0</td>\n",
       "      <td>60.0</td>\n",
       "    </tr>\n",
       "    <tr>\n",
       "      <th>4</th>\n",
       "      <td>59929</td>\n",
       "      <td>454</td>\n",
       "      <td>5.0</td>\n",
       "      <td>0</td>\n",
       "      <td>2005-03-07</td>\n",
       "      <td>qfw0omIA2Cthnq0AxZablA</td>\n",
       "      <td>59929-454</td>\n",
       "      <td>Best place for brunch if you can handle the wa...</td>\n",
       "      <td>Cafeteria</td>\n",
       "      <td>85</td>\n",
       "      <td>1</td>\n",
       "      <td>1</td>\n",
       "      <td>5.0</td>\n",
       "      <td>0</td>\n",
       "      <td>0.0</td>\n",
       "      <td>85.0</td>\n",
       "    </tr>\n",
       "  </tbody>\n",
       "</table>\n",
       "</div>"
      ],
      "text/plain": [
       "   userID  comp_id  rating  filtered       date                 user_id  \\\n",
       "0   30262      468     4.0         0 2004-10-20  VSKUlW-uL7E3nf4dxs5cSw   \n",
       "1  107234      510     4.0         0 2004-11-02  EnmELstQQKBwlQ1VKJn7wQ   \n",
       "2   19015      142     5.0         0 2004-12-09  THUzhkWhdXO92axNzw9L0w   \n",
       "3  116117      708     5.0         0 2005-03-02  DoBupYIzLs0c8ataxQhE5w   \n",
       "4   59929      454     5.0         0 2005-03-07  qfw0omIA2Cthnq0AxZablA   \n",
       "\n",
       "    user-comp                                        review_text  \\\n",
       "0   30262-468  Excellent Soup Dumplings. It's a must if you g...   \n",
       "1  107234-510  One of the best hidden no-name neighborhood pl...   \n",
       "2   19015-142  Really lovely Italian food, very simple and we...   \n",
       "3  116117-708  Mario Batali at his best, this is my current f...   \n",
       "4   59929-454  Best place for brunch if you can handle the wa...   \n",
       "\n",
       "        comp_name  review_length  biz_rvws  user_rvws  avg_rating  past_filt  \\\n",
       "0  Joe’s Shanghai            214         1          1         4.0          0   \n",
       "1     Cafe Habana            496         1          1         4.0          0   \n",
       "2          Supper            346         1          1         5.0          0   \n",
       "3            Lupa             60         1          1         5.0          0   \n",
       "4       Cafeteria             85         1          1         5.0          0   \n",
       "\n",
       "   percent_filt  avg_rev_len  \n",
       "0           0.0        214.0  \n",
       "1           0.0        496.0  \n",
       "2           0.0        346.0  \n",
       "3           0.0         60.0  \n",
       "4           0.0         85.0  "
      ]
     },
     "execution_count": 77,
     "metadata": {},
     "output_type": "execute_result"
    }
   ],
   "source": [
    "df6.head()"
   ]
  },
  {
   "cell_type": "code",
   "execution_count": 10,
   "metadata": {},
   "outputs": [
    {
     "name": "stderr",
     "output_type": "stream",
     "text": [
      "/Users/HZB/galv/capstone/cleaner.py:61: FutureWarning: 'comp_id' is both a column name and an index level.\n",
      "Defaulting to column but this will raise an ambiguity error in a future version\n",
      "  cumsum2 = clean_df.groupby(by=['comp_id', 'date','userID']).sum().groupby(level=[0]).cumsum()\n",
      "/Users/HZB/galv/capstone/cleaner.py:61: FutureWarning: 'date' is both a column name and an index level.\n",
      "Defaulting to column but this will raise an ambiguity error in a future version\n",
      "  cumsum2 = clean_df.groupby(by=['comp_id', 'date','userID']).sum().groupby(level=[0]).cumsum()\n",
      "/Users/HZB/galv/capstone/cleaner.py:61: FutureWarning: 'userID' is both a column name and an index level.\n",
      "Defaulting to column but this will raise an ambiguity error in a future version\n",
      "  cumsum2 = clean_df.groupby(by=['comp_id', 'date','userID']).sum().groupby(level=[0]).cumsum()\n",
      "/Users/HZB/galv/capstone/cleaner.py:70: FutureWarning: 'userID' is both a column name and an index level.\n",
      "Defaulting to column but this will raise an ambiguity error in a future version\n",
      "  cumsum2 = df5.groupby(by=['userID','date', 'comp_id']).sum().groupby(level=[0]).cumsum()\n",
      "/Users/HZB/galv/capstone/cleaner.py:70: FutureWarning: 'date' is both a column name and an index level.\n",
      "Defaulting to column but this will raise an ambiguity error in a future version\n",
      "  cumsum2 = df5.groupby(by=['userID','date', 'comp_id']).sum().groupby(level=[0]).cumsum()\n",
      "/Users/HZB/galv/capstone/cleaner.py:70: FutureWarning: 'comp_id' is both a column name and an index level.\n",
      "Defaulting to column but this will raise an ambiguity error in a future version\n",
      "  cumsum2 = df5.groupby(by=['userID','date', 'comp_id']).sum().groupby(level=[0]).cumsum()\n"
     ]
    }
   ],
   "source": [
    "df2 = cleaner.cumulator(df)"
   ]
  },
  {
   "cell_type": "code",
   "execution_count": 39,
   "metadata": {},
   "outputs": [],
   "source": [
    "features = ['rating','filtered','review_length','biz_rvws',\n",
    "       'percent_filt', 'user_rvws', 'avg_rating', 'percent_filt',\n",
    "       'avg_rev_len']"
   ]
  },
  {
   "cell_type": "code",
   "execution_count": 73,
   "metadata": {},
   "outputs": [],
   "source": [
    "test_df = df[features]"
   ]
  },
  {
   "cell_type": "code",
   "execution_count": 28,
   "metadata": {},
   "outputs": [],
   "source": [
    "test_df = test_df.sort_values('date')"
   ]
  },
  {
   "cell_type": "code",
   "execution_count": 74,
   "metadata": {},
   "outputs": [
    {
     "data": {
      "text/plain": [
       "(array([ 3566.,     0.,  2391.,     0.,     0.,  3167.,     0., 10732.,\n",
       "            0., 17004.]),\n",
       " array([1. , 1.4, 1.8, 2.2, 2.6, 3. , 3.4, 3.8, 4.2, 4.6, 5. ]),\n",
       " <a list of 10 Patch objects>)"
      ]
     },
     "execution_count": 74,
     "metadata": {},
     "output_type": "execute_result"
    },
    {
     "data": {
      "image/png": "[encoded data removed]",
      "text/plain": [
       "<Figure size 432x288 with 1 Axes>"
      ]
     },
     "metadata": {},
     "output_type": "display_data"
    }
   ],
   "source": [
    "plt.hist(test_df[test_df['filtered'] == 1].rating)"
   ]
  },
  {
   "cell_type": "code",
   "execution_count": 75,
   "metadata": {},
   "outputs": [
    {
     "data": {
      "text/plain": [
       "(array([ 10656.,      0.,  18383.,      0.,      0.,  44464.,      0.,\n",
       "        124470.,      0., 124124.]),\n",
       " array([1. , 1.4, 1.8, 2.2, 2.6, 3. , 3.4, 3.8, 4.2, 4.6, 5. ]),\n",
       " <a list of 10 Patch objects>)"
      ]
     },
     "execution_count": 75,
     "metadata": {},
     "output_type": "execute_result"
    },
    {
     "data": {
      "image/png": "[encoded data removed]",
      "text/plain": [
       "<Figure size 432x288 with 1 Axes>"
      ]
     },
     "metadata": {},
     "output_type": "display_data"
    }
   ],
   "source": [
    "plt.hist(test_df[test_df['filtered'] != 1].rating)"
   ]
  },
  {
   "cell_type": "code",
   "execution_count": null,
   "metadata": {},
   "outputs": [],
   "source": [
    "plt.hist(test_df[test_df['filtered'] == 1].avg_rev_len)"
   ]
  },
  {
   "cell_type": "code",
   "execution_count": 41,
   "metadata": {},
   "outputs": [
    {
     "data": {
      "text/html": [
       "<div>\n",
       "<style scoped>\n",
       "    .dataframe tbody tr th:only-of-type {\n",
       "        vertical-align: middle;\n",
       "    }\n",
       "\n",
       "    .dataframe tbody tr th {\n",
       "        vertical-align: top;\n",
       "    }\n",
       "\n",
       "    .dataframe thead th {\n",
       "        text-align: right;\n",
       "    }\n",
       "</style>\n",
       "<table border=\"1\" class=\"dataframe\">\n",
       "  <thead>\n",
       "    <tr style=\"text-align: right;\">\n",
       "      <th></th>\n",
       "      <th></th>\n",
       "      <th></th>\n",
       "      <th>rating</th>\n",
       "      <th>filtered</th>\n",
       "      <th>review_length</th>\n",
       "      <th>biz_rvws</th>\n",
       "      <th>percent_filt</th>\n",
       "      <th>percent_filt</th>\n",
       "      <th>user_rvws</th>\n",
       "      <th>avg_rating</th>\n",
       "      <th>percent_filt</th>\n",
       "      <th>percent_filt</th>\n",
       "      <th>avg_rev_len</th>\n",
       "    </tr>\n",
       "    <tr>\n",
       "      <th>userID</th>\n",
       "      <th>date</th>\n",
       "      <th>comp_id</th>\n",
       "      <th></th>\n",
       "      <th></th>\n",
       "      <th></th>\n",
       "      <th></th>\n",
       "      <th></th>\n",
       "      <th></th>\n",
       "      <th></th>\n",
       "      <th></th>\n",
       "      <th></th>\n",
       "      <th></th>\n",
       "      <th></th>\n",
       "    </tr>\n",
       "  </thead>\n",
       "  <tbody>\n",
       "    <tr>\n",
       "      <th>30262</th>\n",
       "      <th>2004-10-20</th>\n",
       "      <th>468</th>\n",
       "      <td>4.0</td>\n",
       "      <td>0</td>\n",
       "      <td>214</td>\n",
       "      <td>1</td>\n",
       "      <td>0</td>\n",
       "      <td>0.0</td>\n",
       "      <td>1</td>\n",
       "      <td>4.0</td>\n",
       "      <td>0</td>\n",
       "      <td>0.0</td>\n",
       "      <td>214.0</td>\n",
       "    </tr>\n",
       "    <tr>\n",
       "      <th>107234</th>\n",
       "      <th>2004-11-02</th>\n",
       "      <th>510</th>\n",
       "      <td>4.0</td>\n",
       "      <td>0</td>\n",
       "      <td>496</td>\n",
       "      <td>1</td>\n",
       "      <td>0</td>\n",
       "      <td>0.0</td>\n",
       "      <td>1</td>\n",
       "      <td>4.0</td>\n",
       "      <td>0</td>\n",
       "      <td>0.0</td>\n",
       "      <td>496.0</td>\n",
       "    </tr>\n",
       "    <tr>\n",
       "      <th>19015</th>\n",
       "      <th>2004-12-09</th>\n",
       "      <th>142</th>\n",
       "      <td>5.0</td>\n",
       "      <td>0</td>\n",
       "      <td>346</td>\n",
       "      <td>1</td>\n",
       "      <td>0</td>\n",
       "      <td>0.0</td>\n",
       "      <td>1</td>\n",
       "      <td>5.0</td>\n",
       "      <td>0</td>\n",
       "      <td>0.0</td>\n",
       "      <td>346.0</td>\n",
       "    </tr>\n",
       "    <tr>\n",
       "      <th>116117</th>\n",
       "      <th>2005-03-02</th>\n",
       "      <th>708</th>\n",
       "      <td>5.0</td>\n",
       "      <td>0</td>\n",
       "      <td>60</td>\n",
       "      <td>1</td>\n",
       "      <td>0</td>\n",
       "      <td>0.0</td>\n",
       "      <td>1</td>\n",
       "      <td>5.0</td>\n",
       "      <td>0</td>\n",
       "      <td>0.0</td>\n",
       "      <td>60.0</td>\n",
       "    </tr>\n",
       "    <tr>\n",
       "      <th>59929</th>\n",
       "      <th>2005-03-07</th>\n",
       "      <th>454</th>\n",
       "      <td>5.0</td>\n",
       "      <td>0</td>\n",
       "      <td>85</td>\n",
       "      <td>1</td>\n",
       "      <td>0</td>\n",
       "      <td>0.0</td>\n",
       "      <td>1</td>\n",
       "      <td>5.0</td>\n",
       "      <td>0</td>\n",
       "      <td>0.0</td>\n",
       "      <td>85.0</td>\n",
       "    </tr>\n",
       "  </tbody>\n",
       "</table>\n",
       "</div>"
      ],
      "text/plain": [
       "                           rating  filtered  review_length  biz_rvws  \\\n",
       "userID date       comp_id                                              \n",
       "30262  2004-10-20 468         4.0         0            214         1   \n",
       "107234 2004-11-02 510         4.0         0            496         1   \n",
       "19015  2004-12-09 142         5.0         0            346         1   \n",
       "116117 2005-03-02 708         5.0         0             60         1   \n",
       "59929  2005-03-07 454         5.0         0             85         1   \n",
       "\n",
       "                           percent_filt  percent_filt  user_rvws  avg_rating  \\\n",
       "userID date       comp_id                                                      \n",
       "30262  2004-10-20 468                 0           0.0          1         4.0   \n",
       "107234 2004-11-02 510                 0           0.0          1         4.0   \n",
       "19015  2004-12-09 142                 0           0.0          1         5.0   \n",
       "116117 2005-03-02 708                 0           0.0          1         5.0   \n",
       "59929  2005-03-07 454                 0           0.0          1         5.0   \n",
       "\n",
       "                           percent_filt  percent_filt  avg_rev_len  \n",
       "userID date       comp_id                                           \n",
       "30262  2004-10-20 468                 0           0.0        214.0  \n",
       "107234 2004-11-02 510                 0           0.0        496.0  \n",
       "19015  2004-12-09 142                 0           0.0        346.0  \n",
       "116117 2005-03-02 708                 0           0.0         60.0  \n",
       "59929  2005-03-07 454                 0           0.0         85.0  "
      ]
     },
     "execution_count": 41,
     "metadata": {},
     "output_type": "execute_result"
    }
   ],
   "source": [
    "test_df.head()"
   ]
  },
  {
   "cell_type": "code",
   "execution_count": 58,
   "metadata": {},
   "outputs": [],
   "source": [
    "from sklearn.model_selection import train_test_split"
   ]
  },
  {
   "cell_type": "code",
   "execution_count": 59,
   "metadata": {},
   "outputs": [],
   "source": [
    "non_holdout, hold_out = train_test_split(test_df, test_size=0.1, random_state=0, shuffle=False)"
   ]
  },
  {
   "cell_type": "code",
   "execution_count": 60,
   "metadata": {},
   "outputs": [],
   "source": [
    "###### Drop percent_filt"
   ]
  },
  {
   "cell_type": "code",
   "execution_count": 61,
   "metadata": {},
   "outputs": [],
   "source": [
    "non_holdout= non_holdout.drop('percent_filt', axis=1)"
   ]
  },
  {
   "cell_type": "code",
   "execution_count": 62,
   "metadata": {},
   "outputs": [],
   "source": [
    "X_train,X_test = train_test_split(non_holdout, test_size=0.3, random_state=0, shuffle=False)"
   ]
  },
  {
   "cell_type": "code",
   "execution_count": 63,
   "metadata": {},
   "outputs": [],
   "source": [
    "y_train = X_train.pop('filtered')"
   ]
  },
  {
   "cell_type": "code",
   "execution_count": 64,
   "metadata": {},
   "outputs": [],
   "source": [
    "y_test = X_test.pop('filtered')"
   ]
  },
  {
   "cell_type": "code",
   "execution_count": 56,
   "metadata": {},
   "outputs": [],
   "source": [
    "from sklearn import linear_model, datasets\n",
    "from sklearn.metrics import confusion_matrix, classification_report"
   ]
  },
  {
   "cell_type": "code",
   "execution_count": 65,
   "metadata": {},
   "outputs": [],
   "source": [
    "logreg = linear_model.LogisticRegression()"
   ]
  },
  {
   "cell_type": "code",
   "execution_count": 66,
   "metadata": {},
   "outputs": [],
   "source": [
    "result = logreg.fit(X_train, y_train)"
   ]
  },
  {
   "cell_type": "code",
   "execution_count": 67,
   "metadata": {},
   "outputs": [
    {
     "name": "stdout",
     "output_type": "stream",
     "text": [
      "LogisticRegression(C=1.0, class_weight=None, dual=False, fit_intercept=True,\n",
      "          intercept_scaling=1, max_iter=100, multi_class='ovr', n_jobs=1,\n",
      "          penalty='l2', random_state=None, solver='liblinear', tol=0.0001,\n",
      "          verbose=0, warm_start=False) Results [[87480     0]\n",
      " [ 9439     0]]\n",
      "\n",
      "\n",
      "             precision    recall  f1-score   support\n",
      "\n",
      "          0       0.90      1.00      0.95     87480\n",
      "          1       0.00      0.00      0.00      9439\n",
      "\n",
      "avg / total       0.81      0.90      0.86     96919\n",
      "\n"
     ]
    },
    {
     "name": "stderr",
     "output_type": "stream",
     "text": [
      "/anaconda3/lib/python3.6/site-packages/sklearn/metrics/classification.py:1135: UndefinedMetricWarning: Precision and F-score are ill-defined and being set to 0.0 in labels with no predicted samples.\n",
      "  'precision', 'predicted', average, warn_for)\n"
     ]
    }
   ],
   "source": [
    "preds = result.predict(X_test)\n",
    "print(f\"{result} Results\",confusion_matrix(y_test, preds))\n",
    "print('\\n')\n",
    "print(classification_report(y_test, preds))"
   ]
  },
  {
   "cell_type": "code",
   "execution_count": 31,
   "metadata": {},
   "outputs": [],
   "source": [
    "from sklearn.ensemble import RandomForestClassifier\n",
    "from sklearn.datasets import make_classification\n",
    "\n"
   ]
  },
  {
   "cell_type": "code",
   "execution_count": 61,
   "metadata": {},
   "outputs": [],
   "source": [
    "# clf = RandomForestClassifier(max_depth=2, random_state=0)\n",
    "# clf.fit(X_train, y_train)\n",
    "\n",
    "# RandomForestClassifier(bootstrap=True, class_weight=None, criterion='gini',\n",
    "#             max_depth=2, max_features='auto', max_leaf_nodes=None,\n",
    "#             min_impurity_decrease=0.0, min_impurity_split=None,\n",
    "#             min_samples_leaf=1, min_samples_split=2,\n",
    "#             min_weight_fraction_leaf=0.0, n_estimators=10, n_jobs=1,\n",
    "#             oob_score=False, random_state=0, verbose=0, warm_start=False)\n",
    "# preds = clf.predict(X_test)"
   ]
  },
  {
   "cell_type": "code",
   "execution_count": 72,
   "metadata": {},
   "outputs": [
    {
     "name": "stdout",
     "output_type": "stream",
     "text": [
      "RandomForestClassifier(bootstrap=True, class_weight=None, criterion='gini',\n",
      "            max_depth=2, max_features='auto', max_leaf_nodes=None,\n",
      "            min_impurity_decrease=0.0, min_impurity_split=None,\n",
      "            min_samples_leaf=1, min_samples_split=2,\n",
      "            min_weight_fraction_leaf=0.0, n_estimators=10, n_jobs=1,\n",
      "            oob_score=False, random_state=0, verbose=0, warm_start=False) Results [[87480     0]\n",
      " [ 9439     0]]\n",
      "\n",
      "\n",
      "             precision    recall  f1-score   support\n",
      "\n",
      "          0       0.90      1.00      0.95     87480\n",
      "          1       0.00      0.00      0.00      9439\n",
      "\n",
      "avg / total       0.81      0.90      0.86     96919\n",
      "\n"
     ]
    },
    {
     "name": "stderr",
     "output_type": "stream",
     "text": [
      "/anaconda3/lib/python3.6/site-packages/sklearn/metrics/classification.py:1135: UndefinedMetricWarning: Precision and F-score are ill-defined and being set to 0.0 in labels with no predicted samples.\n",
      "  'precision', 'predicted', average, warn_for)\n"
     ]
    }
   ],
   "source": [
    "print(f\"{clf} Results\",confusion_matrix(y_test, preds))\n",
    "print('\\n')\n",
    "print(classification_report(y_test, preds))"
   ]
  },
  {
   "cell_type": "code",
   "execution_count": 49,
   "metadata": {},
   "outputs": [],
   "source": [
    "features = ['rating','filtered','review_length','biz_rvws', 'user_rvws', 'avg_rating','avg_rev_len']"
   ]
  },
  {
   "cell_type": "code",
   "execution_count": 50,
   "metadata": {},
   "outputs": [],
   "source": [
    "test_data = df6[features]\n"
   ]
  },
  {
   "cell_type": "code",
   "execution_count": 56,
   "metadata": {},
   "outputs": [],
   "source": [
    "test_data.reset_index(drop=True, inplace=True)\n",
    "    "
   ]
  },
  {
   "cell_type": "code",
   "execution_count": 57,
   "metadata": {},
   "outputs": [
    {
     "data": {
      "text/html": [
       "<div>\n",
       "<style scoped>\n",
       "    .dataframe tbody tr th:only-of-type {\n",
       "        vertical-align: middle;\n",
       "    }\n",
       "\n",
       "    .dataframe tbody tr th {\n",
       "        vertical-align: top;\n",
       "    }\n",
       "\n",
       "    .dataframe thead th {\n",
       "        text-align: right;\n",
       "    }\n",
       "</style>\n",
       "<table border=\"1\" class=\"dataframe\">\n",
       "  <thead>\n",
       "    <tr style=\"text-align: right;\">\n",
       "      <th></th>\n",
       "      <th>rating</th>\n",
       "      <th>filtered</th>\n",
       "      <th>review_length</th>\n",
       "      <th>biz_rvws</th>\n",
       "      <th>user_rvws</th>\n",
       "      <th>avg_rating</th>\n",
       "      <th>avg_rev_len</th>\n",
       "    </tr>\n",
       "  </thead>\n",
       "  <tbody>\n",
       "    <tr>\n",
       "      <th>0</th>\n",
       "      <td>4.0</td>\n",
       "      <td>0</td>\n",
       "      <td>214</td>\n",
       "      <td>1</td>\n",
       "      <td>1</td>\n",
       "      <td>4.0</td>\n",
       "      <td>214.0</td>\n",
       "    </tr>\n",
       "    <tr>\n",
       "      <th>1</th>\n",
       "      <td>4.0</td>\n",
       "      <td>0</td>\n",
       "      <td>496</td>\n",
       "      <td>1</td>\n",
       "      <td>1</td>\n",
       "      <td>4.0</td>\n",
       "      <td>496.0</td>\n",
       "    </tr>\n",
       "    <tr>\n",
       "      <th>2</th>\n",
       "      <td>5.0</td>\n",
       "      <td>0</td>\n",
       "      <td>346</td>\n",
       "      <td>1</td>\n",
       "      <td>1</td>\n",
       "      <td>5.0</td>\n",
       "      <td>346.0</td>\n",
       "    </tr>\n",
       "    <tr>\n",
       "      <th>3</th>\n",
       "      <td>5.0</td>\n",
       "      <td>0</td>\n",
       "      <td>60</td>\n",
       "      <td>1</td>\n",
       "      <td>1</td>\n",
       "      <td>5.0</td>\n",
       "      <td>60.0</td>\n",
       "    </tr>\n",
       "    <tr>\n",
       "      <th>4</th>\n",
       "      <td>5.0</td>\n",
       "      <td>0</td>\n",
       "      <td>85</td>\n",
       "      <td>1</td>\n",
       "      <td>1</td>\n",
       "      <td>5.0</td>\n",
       "      <td>85.0</td>\n",
       "    </tr>\n",
       "  </tbody>\n",
       "</table>\n",
       "</div>"
      ],
      "text/plain": [
       "   rating  filtered  review_length  biz_rvws  user_rvws  avg_rating  \\\n",
       "0     4.0         0            214         1          1         4.0   \n",
       "1     4.0         0            496         1          1         4.0   \n",
       "2     5.0         0            346         1          1         5.0   \n",
       "3     5.0         0             60         1          1         5.0   \n",
       "4     5.0         0             85         1          1         5.0   \n",
       "\n",
       "   avg_rev_len  \n",
       "0        214.0  \n",
       "1        496.0  \n",
       "2        346.0  \n",
       "3         60.0  \n",
       "4         85.0  "
      ]
     },
     "execution_count": 57,
     "metadata": {},
     "output_type": "execute_result"
    }
   ],
   "source": [
    "test_data.head()"
   ]
  },
  {
   "cell_type": "code",
   "execution_count": 78,
   "metadata": {},
   "outputs": [],
   "source": [
    "import classifiers"
   ]
  },
  {
   "cell_type": "code",
   "execution_count": 79,
   "metadata": {},
   "outputs": [],
   "source": [
    "X_train, X_test, y_train, y_test = classifiers.balanced_split(df6)"
   ]
  },
  {
   "cell_type": "code",
   "execution_count": 76,
   "metadata": {},
   "outputs": [
    {
     "name": "stdout",
     "output_type": "stream",
     "text": [
      "RandomForestClassifier(bootstrap=True, class_weight=None, criterion='gini',\n",
      "            max_depth=2, max_features='auto', max_leaf_nodes=None,\n",
      "            min_impurity_decrease=0.0, min_impurity_split=None,\n",
      "            min_samples_leaf=1, min_samples_split=2,\n",
      "            min_weight_fraction_leaf=0.0, n_estimators=10, n_jobs=1,\n",
      "            oob_score=False, random_state=0, verbose=0, warm_start=False) Results [[52508 34408]\n",
      " [ 2224  7779]]\n",
      "\n",
      "\n",
      "Feature importance: {clf.feature_importances_}\n",
      "             precision    recall  f1-score   support\n",
      "\n",
      "          0       0.96      0.60      0.74     86916\n",
      "          1       0.18      0.78      0.30     10003\n",
      "\n",
      "avg / total       0.88      0.62      0.70     96919\n",
      "\n",
      "LogisticRegression(C=1.0, class_weight=None, dual=False, fit_intercept=True,\n",
      "          intercept_scaling=1, max_iter=100, multi_class='ovr', n_jobs=1,\n",
      "          penalty='l2', random_state=None, solver='liblinear', tol=0.0001,\n",
      "          verbose=0, warm_start=False) Results [[44552 42364]\n",
      " [ 1762  8241]]\n",
      "\n",
      "\n",
      "             precision    recall  f1-score   support\n",
      "\n",
      "          0       0.96      0.51      0.67     86916\n",
      "          1       0.16      0.82      0.27     10003\n",
      "\n",
      "avg / total       0.88      0.54      0.63     96919\n",
      "\n"
     ]
    }
   ],
   "source": [
    "classifiers.run_models(X_train, X_test, y_train, y_test)"
   ]
  },
  {
   "cell_type": "code",
   "execution_count": 90,
   "metadata": {},
   "outputs": [
    {
     "name": "stdout",
     "output_type": "stream",
     "text": [
      "RandomForestClassifier(bootstrap=True, class_weight=None, criterion='gini',\n",
      "            max_depth=2, max_features='auto', max_leaf_nodes=None,\n",
      "            min_impurity_decrease=0.0, min_impurity_split=None,\n",
      "            min_samples_leaf=1, min_samples_split=2,\n",
      "            min_weight_fraction_leaf=0.0, n_estimators=10, n_jobs=1,\n",
      "            oob_score=False, random_state=0, verbose=0, warm_start=False) Results [[51338 35578]\n",
      " [  512  9491]]\n",
      "\n",
      "\n",
      "Feature importance: {clf.feature_importances_}\n",
      "             precision    recall  f1-score   support\n",
      "\n",
      "          0       0.99      0.59      0.74     86916\n",
      "          1       0.21      0.95      0.34     10003\n",
      "\n",
      "avg / total       0.91      0.63      0.70     96919\n",
      "\n",
      "LogisticRegression(C=1.0, class_weight=None, dual=False, fit_intercept=True,\n",
      "          intercept_scaling=1, max_iter=100, multi_class='ovr', n_jobs=1,\n",
      "          penalty='l2', random_state=None, solver='liblinear', tol=0.0001,\n",
      "          verbose=0, warm_start=False) Results [[53366 33550]\n",
      " [  355  9648]]\n",
      "\n",
      "\n",
      "             precision    recall  f1-score   support\n",
      "\n",
      "          0       0.99      0.61      0.76     86916\n",
      "          1       0.22      0.96      0.36     10003\n",
      "\n",
      "avg / total       0.91      0.65      0.72     96919\n",
      "\n"
     ]
    }
   ],
   "source": [
    "import classifiers\n",
    "X_train, X_test, y_train, y_test = classifiers.balanced_split(df6)\n",
    "classifiers.run_models(X_train, X_test, y_train, y_test)"
   ]
  },
  {
   "cell_type": "code",
   "execution_count": 82,
   "metadata": {},
   "outputs": [],
   "source": [
    "import nlp_fake"
   ]
  },
  {
   "cell_type": "code",
   "execution_count": 91,
   "metadata": {},
   "outputs": [],
   "source": [
    "X_train, X_test, y_train, y_test = nlp_fake.balanced_class(df6)"
   ]
  },
  {
   "cell_type": "code",
   "execution_count": 92,
   "metadata": {},
   "outputs": [
    {
     "name": "stdout",
     "output_type": "stream",
     "text": [
      "['00pm', '10pm', '11am', '11pm', '14th', '15pm', '1pm', '1st', '2am', '2nd', '2pm', '30am', '30pm', '3pm', '3rd', '4am', '4pm', '4th', '53rd', '5pm', '5th', '6pm', '6th', '7pm', '7th', '8pm', '8th', '9pm', '9th', 'abc']\n"
     ]
    }
   ],
   "source": [
    "X_train, X_test, y_train, y_test = nlp_fake.tfidfed(X_train, X_test, y_train, y_test)"
   ]
  },
  {
   "cell_type": "code",
   "execution_count": 89,
   "metadata": {},
   "outputs": [
    {
     "name": "stdout",
     "output_type": "stream",
     "text": [
      "RandomForestClassifier(bootstrap=True, class_weight=None, criterion='gini',\n",
      "            max_depth=2, max_features='auto', max_leaf_nodes=None,\n",
      "            min_impurity_decrease=0.0, min_impurity_split=None,\n",
      "            min_samples_leaf=1, min_samples_split=2,\n",
      "            min_weight_fraction_leaf=0.0, n_estimators=10, n_jobs=1,\n",
      "            oob_score=False, random_state=0, verbose=0, warm_start=False) Results [[37813 49103]\n",
      " [ 2552  7451]]\n",
      "\n",
      "\n",
      "Feature importance: {clf.feature_importances_}\n",
      "             precision    recall  f1-score   support\n",
      "\n",
      "          0       0.94      0.44      0.59     86916\n",
      "          1       0.13      0.74      0.22     10003\n",
      "\n",
      "avg / total       0.85      0.47      0.56     96919\n",
      "\n",
      "LogisticRegression(C=1.0, class_weight=None, dual=False, fit_intercept=True,\n",
      "          intercept_scaling=1, max_iter=100, multi_class='ovr', n_jobs=1,\n",
      "          penalty='l2', random_state=None, solver='liblinear', tol=0.0001,\n",
      "          verbose=0, warm_start=False) Results [[55572 31344]\n",
      " [ 3388  6615]]\n",
      "\n",
      "\n",
      "             precision    recall  f1-score   support\n",
      "\n",
      "          0       0.94      0.64      0.76     86916\n",
      "          1       0.17      0.66      0.28     10003\n",
      "\n",
      "avg / total       0.86      0.64      0.71     96919\n",
      "\n"
     ]
    }
   ],
   "source": [
    "classifiers.run_models(X_train, X_test, y_train, y_test)"
   ]
  },
  {
   "cell_type": "code",
   "execution_count": 93,
   "metadata": {},
   "outputs": [
    {
     "name": "stdout",
     "output_type": "stream",
     "text": [
      "RandomForestClassifier(bootstrap=True, class_weight=None, criterion='gini',\n",
      "            max_depth=2, max_features='auto', max_leaf_nodes=None,\n",
      "            min_impurity_decrease=0.0, min_impurity_split=None,\n",
      "            min_samples_leaf=1, min_samples_split=2,\n",
      "            min_weight_fraction_leaf=0.0, n_estimators=10, n_jobs=1,\n",
      "            oob_score=False, random_state=0, verbose=0, warm_start=False) Results [[39150 47766]\n",
      " [ 2668  7335]]\n",
      "\n",
      "\n",
      "Feature importance: {clf.feature_importances_}\n",
      "             precision    recall  f1-score   support\n",
      "\n",
      "          0       0.94      0.45      0.61     86916\n",
      "          1       0.13      0.73      0.23     10003\n",
      "\n",
      "avg / total       0.85      0.48      0.57     96919\n",
      "\n",
      "LogisticRegression(C=1.0, class_weight=None, dual=False, fit_intercept=True,\n",
      "          intercept_scaling=1, max_iter=100, multi_class='ovr', n_jobs=1,\n",
      "          penalty='l2', random_state=None, solver='liblinear', tol=0.0001,\n",
      "          verbose=0, warm_start=False) Results [[49402 37514]\n",
      " [ 3100  6903]]\n",
      "\n",
      "\n",
      "             precision    recall  f1-score   support\n",
      "\n",
      "          0       0.94      0.57      0.71     86916\n",
      "          1       0.16      0.69      0.25     10003\n",
      "\n",
      "avg / total       0.86      0.58      0.66     96919\n",
      "\n"
     ]
    }
   ],
   "source": [
    "X_train, X_test, y_train, y_test = nlp_fake.count_vectored(X_train, X_test, y_train, y_test)\n",
    "classifiers.run_models(X_train, X_test, y_train, y_test)"
   ]
  },
  {
   "cell_type": "code",
   "execution_count": 94,
   "metadata": {},
   "outputs": [
    {
     "name": "stdout",
     "output_type": "stream",
     "text": [
      "RandomForestClassifier(bootstrap=True, class_weight=None, criterion='gini',\n",
      "            max_depth=2, max_features='auto', max_leaf_nodes=None,\n",
      "            min_impurity_decrease=0.0, min_impurity_split=None,\n",
      "            min_samples_leaf=1, min_samples_split=2,\n",
      "            min_weight_fraction_leaf=0.0, n_estimators=10, n_jobs=1,\n",
      "            oob_score=False, random_state=0, verbose=0, warm_start=False) Results [[86916     0]\n",
      " [ 9970    33]]\n",
      "\n",
      "\n",
      "Feature importance: {clf.feature_importances_}\n",
      "             precision    recall  f1-score   support\n",
      "\n",
      "          0       0.90      1.00      0.95     86916\n",
      "          1       1.00      0.00      0.01     10003\n",
      "\n",
      "avg / total       0.91      0.90      0.85     96919\n",
      "\n",
      "LogisticRegression(C=1.0, class_weight=None, dual=False, fit_intercept=True,\n",
      "          intercept_scaling=1, max_iter=100, multi_class='ovr', n_jobs=1,\n",
      "          penalty='l2', random_state=None, solver='liblinear', tol=0.0001,\n",
      "          verbose=0, warm_start=False) Results [[86895    21]\n",
      " [ 7806  2197]]\n",
      "\n",
      "\n",
      "             precision    recall  f1-score   support\n",
      "\n",
      "          0       0.92      1.00      0.96     86916\n",
      "          1       0.99      0.22      0.36     10003\n",
      "\n",
      "avg / total       0.93      0.92      0.90     96919\n",
      "\n"
     ]
    }
   ],
   "source": [
    "import classifiers\n",
    "X_train, X_test, y_train, y_test = classifiers.balanced_split(df6)\n",
    "classifiers.run_models(X_train, X_test, y_train, y_test)"
   ]
  },
  {
   "cell_type": "code",
   "execution_count": 157,
   "metadata": {},
   "outputs": [],
   "source": [
    "import classifiers\n",
    "X_train, X_train_tfidf, X_test, X_test_tfidf, y_train, y_test = classifiers.balanced_split(df6)\n",
    "#classifiers.run_models(X_train, X_test, y_train, y_test)"
   ]
  },
  {
   "cell_type": "code",
   "execution_count": 158,
   "metadata": {},
   "outputs": [],
   "source": [
    "import nlp_fake"
   ]
  },
  {
   "cell_type": "code",
   "execution_count": 159,
   "metadata": {},
   "outputs": [],
   "source": [
    "X_train_tfidf, X_test_tfidf, y_train, y_test, tfidf_columns = nlp_fake.tfidfed(X_train_tfidf, X_test_tfidf, y_train, y_test)"
   ]
  },
  {
   "cell_type": "code",
   "execution_count": 113,
   "metadata": {},
   "outputs": [
    {
     "data": {
      "text/html": [
       "<div>\n",
       "<style scoped>\n",
       "    .dataframe tbody tr th:only-of-type {\n",
       "        vertical-align: middle;\n",
       "    }\n",
       "\n",
       "    .dataframe tbody tr th {\n",
       "        vertical-align: top;\n",
       "    }\n",
       "\n",
       "    .dataframe thead th {\n",
       "        text-align: right;\n",
       "    }\n",
       "</style>\n",
       "<table border=\"1\" class=\"dataframe\">\n",
       "  <thead>\n",
       "    <tr style=\"text-align: right;\">\n",
       "      <th></th>\n",
       "      <th>rating</th>\n",
       "      <th>review_length</th>\n",
       "      <th>biz_rvws</th>\n",
       "      <th>user_rvws</th>\n",
       "      <th>avg_rating</th>\n",
       "      <th>past_filt</th>\n",
       "      <th>percent_filt</th>\n",
       "      <th>avg_rev_len</th>\n",
       "    </tr>\n",
       "  </thead>\n",
       "  <tbody>\n",
       "    <tr>\n",
       "      <th>220620</th>\n",
       "      <td>5.0</td>\n",
       "      <td>27</td>\n",
       "      <td>4061</td>\n",
       "      <td>1</td>\n",
       "      <td>5.0</td>\n",
       "      <td>0</td>\n",
       "      <td>0.0</td>\n",
       "      <td>27.0</td>\n",
       "    </tr>\n",
       "    <tr>\n",
       "      <th>263407</th>\n",
       "      <td>5.0</td>\n",
       "      <td>1398</td>\n",
       "      <td>403</td>\n",
       "      <td>1</td>\n",
       "      <td>5.0</td>\n",
       "      <td>0</td>\n",
       "      <td>0.0</td>\n",
       "      <td>1398.0</td>\n",
       "    </tr>\n",
       "    <tr>\n",
       "      <th>221929</th>\n",
       "      <td>3.0</td>\n",
       "      <td>357</td>\n",
       "      <td>2341</td>\n",
       "      <td>2</td>\n",
       "      <td>3.0</td>\n",
       "      <td>1</td>\n",
       "      <td>0.5</td>\n",
       "      <td>311.0</td>\n",
       "    </tr>\n",
       "    <tr>\n",
       "      <th>27173</th>\n",
       "      <td>4.0</td>\n",
       "      <td>430</td>\n",
       "      <td>136</td>\n",
       "      <td>2</td>\n",
       "      <td>4.0</td>\n",
       "      <td>0</td>\n",
       "      <td>0.0</td>\n",
       "      <td>488.0</td>\n",
       "    </tr>\n",
       "    <tr>\n",
       "      <th>176371</th>\n",
       "      <td>5.0</td>\n",
       "      <td>374</td>\n",
       "      <td>2277</td>\n",
       "      <td>1</td>\n",
       "      <td>5.0</td>\n",
       "      <td>0</td>\n",
       "      <td>0.0</td>\n",
       "      <td>374.0</td>\n",
       "    </tr>\n",
       "  </tbody>\n",
       "</table>\n",
       "</div>"
      ],
      "text/plain": [
       "        rating  review_length  biz_rvws  user_rvws  avg_rating  past_filt  \\\n",
       "220620     5.0             27      4061          1         5.0          0   \n",
       "263407     5.0           1398       403          1         5.0          0   \n",
       "221929     3.0            357      2341          2         3.0          1   \n",
       "27173      4.0            430       136          2         4.0          0   \n",
       "176371     5.0            374      2277          1         5.0          0   \n",
       "\n",
       "        percent_filt  avg_rev_len  \n",
       "220620           0.0         27.0  \n",
       "263407           0.0       1398.0  \n",
       "221929           0.5        311.0  \n",
       "27173            0.0        488.0  \n",
       "176371           0.0        374.0  "
      ]
     },
     "execution_count": 113,
     "metadata": {},
     "output_type": "execute_result"
    }
   ],
   "source": [
    "X_train.head()"
   ]
  },
  {
   "cell_type": "code",
   "execution_count": 160,
   "metadata": {},
   "outputs": [
    {
     "data": {
      "text/plain": [
       "(48460,)"
      ]
     },
     "execution_count": 160,
     "metadata": {},
     "output_type": "execute_result"
    }
   ],
   "source": [
    "y_test.shape"
   ]
  },
  {
   "cell_type": "code",
   "execution_count": 161,
   "metadata": {},
   "outputs": [
    {
     "data": {
      "text/plain": [
       "56464"
      ]
     },
     "execution_count": 161,
     "metadata": {},
     "output_type": "execute_result"
    }
   ],
   "source": [
    "len(X_train)"
   ]
  },
  {
   "cell_type": "code",
   "execution_count": 162,
   "metadata": {},
   "outputs": [],
   "source": [
    "X_train_mid = pd.DataFrame(X_train_tfidf.toarray(), columns=tfidf_columns)"
   ]
  },
  {
   "cell_type": "code",
   "execution_count": 163,
   "metadata": {},
   "outputs": [],
   "source": [
    "X_test_mid = pd.DataFrame(X_test_tfidf.toarray(), columns=tfidf_columns)"
   ]
  },
  {
   "cell_type": "code",
   "execution_count": 164,
   "metadata": {},
   "outputs": [],
   "source": [
    "X_train.reset_index(drop=True, inplace=True)"
   ]
  },
  {
   "cell_type": "code",
   "execution_count": 166,
   "metadata": {},
   "outputs": [],
   "source": [
    "X_test.reset_index(drop=True, inplace=True)"
   ]
  },
  {
   "cell_type": "code",
   "execution_count": 167,
   "metadata": {},
   "outputs": [],
   "source": [
    "X_test = pd.concat([X_test, X_test_mid], axis=1)"
   ]
  },
  {
   "cell_type": "code",
   "execution_count": 169,
   "metadata": {},
   "outputs": [],
   "source": [
    "X_train = pd.concat([X_train, X_train_mid], axis=1)"
   ]
  },
  {
   "cell_type": "code",
   "execution_count": 170,
   "metadata": {},
   "outputs": [
    {
     "data": {
      "text/plain": [
       "(48460, 5008)"
      ]
     },
     "execution_count": 170,
     "metadata": {},
     "output_type": "execute_result"
    }
   ],
   "source": [
    "X_test.shape"
   ]
  },
  {
   "cell_type": "code",
   "execution_count": 171,
   "metadata": {},
   "outputs": [
    {
     "data": {
      "text/plain": [
       "(56464, 5008)"
      ]
     },
     "execution_count": 171,
     "metadata": {},
     "output_type": "execute_result"
    }
   ],
   "source": [
    "X_train.shape"
   ]
  },
  {
   "cell_type": "code",
   "execution_count": 172,
   "metadata": {
    "scrolled": true
   },
   "outputs": [
    {
     "name": "stdout",
     "output_type": "stream",
     "text": [
      "RandomForestClassifier(bootstrap=True, class_weight=None, criterion='gini',\n",
      "            max_depth=2, max_features='auto', max_leaf_nodes=None,\n",
      "            min_impurity_decrease=0.0, min_impurity_split=None,\n",
      "            min_samples_leaf=1, min_samples_split=2,\n",
      "            min_weight_fraction_leaf=0.0, n_estimators=10, n_jobs=1,\n",
      "            oob_score=False, random_state=0, verbose=0, warm_start=False) Results [[24697 18732]\n",
      " [ 1700  3331]]\n",
      "\n",
      "\n",
      "Feature importance: {clf.feature_importances_}\n",
      "             precision    recall  f1-score   support\n",
      "\n",
      "          0       0.94      0.57      0.71     43429\n",
      "          1       0.15      0.66      0.25      5031\n",
      "\n",
      "avg / total       0.85      0.58      0.66     48460\n",
      "\n",
      "LogisticRegression(C=1.0, class_weight=None, dual=False, fit_intercept=True,\n",
      "          intercept_scaling=1, max_iter=100, multi_class='ovr', n_jobs=1,\n",
      "          penalty='l2', random_state=None, solver='liblinear', tol=0.0001,\n",
      "          verbose=0, warm_start=False) Results [[31121 12308]\n",
      " [  550  4481]]\n",
      "\n",
      "\n",
      "             precision    recall  f1-score   support\n",
      "\n",
      "          0       0.98      0.72      0.83     43429\n",
      "          1       0.27      0.89      0.41      5031\n",
      "\n",
      "avg / total       0.91      0.73      0.79     48460\n",
      "\n"
     ]
    }
   ],
   "source": [
    "classifiers.run_models(X_train, X_test, y_train, y_test)"
   ]
  },
  {
   "cell_type": "code",
   "execution_count": null,
   "metadata": {},
   "outputs": [],
   "source": []
  },
  {
   "cell_type": "code",
   "execution_count": 142,
   "metadata": {},
   "outputs": [],
   "source": [
    "X_test_model = X_test_model.fillna(value=0, axis=1)"
   ]
  },
  {
   "cell_type": "code",
   "execution_count": 133,
   "metadata": {},
   "outputs": [
    {
     "data": {
      "text/plain": [
       "False"
      ]
     },
     "execution_count": 133,
     "metadata": {},
     "output_type": "execute_result"
    }
   ],
   "source": [
    "mat = X_test_tfidf.toarray()\n",
    "np.any(np.isnan(mat))"
   ]
  },
  {
   "cell_type": "code",
   "execution_count": 134,
   "metadata": {},
   "outputs": [
    {
     "data": {
      "text/plain": [
       "True"
      ]
     },
     "execution_count": 134,
     "metadata": {},
     "output_type": "execute_result"
    }
   ],
   "source": [
    "np.all(np.isfinite(mat))"
   ]
  },
  {
   "cell_type": "code",
   "execution_count": 135,
   "metadata": {},
   "outputs": [
    {
     "data": {
      "text/plain": [
       "False"
      ]
     },
     "execution_count": 135,
     "metadata": {},
     "output_type": "execute_result"
    }
   ],
   "source": [
    "mat = X_train_tfidf.toarray()\n",
    "np.any(np.isnan(mat))\n",
    "np.all(np.isfinite(mat))"
   ]
  },
  {
   "cell_type": "code",
   "execution_count": 136,
   "metadata": {},
   "outputs": [
    {
     "data": {
      "text/plain": [
       "True"
      ]
     },
     "execution_count": 136,
     "metadata": {},
     "output_type": "execute_result"
    }
   ],
   "source": [
    "np.all(np.isfinite(mat))"
   ]
  },
  {
   "cell_type": "code",
   "execution_count": 143,
   "metadata": {},
   "outputs": [
    {
     "data": {
      "text/plain": [
       "(46520, 5008)"
      ]
     },
     "execution_count": 143,
     "metadata": {},
     "output_type": "execute_result"
    }
   ],
   "source": [
    "X_model.shape"
   ]
  },
  {
   "cell_type": "code",
   "execution_count": 144,
   "metadata": {},
   "outputs": [
    {
     "data": {
      "text/plain": [
       "(164734, 5008)"
      ]
     },
     "execution_count": 144,
     "metadata": {},
     "output_type": "execute_result"
    }
   ],
   "source": [
    "X_test_model.shape"
   ]
  },
  {
   "cell_type": "code",
   "execution_count": 146,
   "metadata": {},
   "outputs": [
    {
     "data": {
      "text/plain": [
       "(96919, 5000)"
      ]
     },
     "execution_count": 146,
     "metadata": {},
     "output_type": "execute_result"
    }
   ],
   "source": [
    "X_test_tfidf.shape"
   ]
  },
  {
   "cell_type": "code",
   "execution_count": 174,
   "metadata": {},
   "outputs": [],
   "source": [
    "X_train_tfidf, X_test_tfidf, y_train, y_test, tfidf_columns = nlp_fake.tfidfed(X_train_tfidf, X_test_tfidf, y_train, y_test)"
   ]
  },
  {
   "cell_type": "code",
   "execution_count": null,
   "metadata": {},
   "outputs": [
    {
     "name": "stdout",
     "output_type": "stream",
     "text": [
      "(48460, 5008)\n",
      "(274601, 5008)\n"
     ]
    }
   ],
   "source": [
    "X_train_mid = pd.DataFrame(X_train_tfidf.toarray(), columns=tfidf_columns)\n",
    "X_test_mid = pd.DataFrame(X_test_tfidf.toarray(), columns=tfidf_columns)\n",
    "X_train.reset_index(drop=True, inplace=True)\n",
    "X_test.reset_index(drop=True, inplace=True)\n",
    "X_test = pd.concat([X_test, X_test_mid], axis=1)\n",
    "X_train = pd.concat([X_train, X_train_mid], axis=1)\n",
    "print(X_train.shape)\n",
    "print(X_test.shape)"
   ]
  },
  {
   "cell_type": "code",
   "execution_count": null,
   "metadata": {},
   "outputs": [],
   "source": [
    "classifiers.run_models(X_train, X_test, y_train, y_test)"
   ]
  },
  {
   "cell_type": "code",
   "execution_count": null,
   "metadata": {},
   "outputs": [],
   "source": [
    "import cleaner\n",
    "df = cleaner.cleanholdout()\n",
    "df = cleaner.cumulator(df)\n",
    "print(df.head())\n",
    "import classifiers\n",
    "X_train, X_train_tfidf, X_test, X_test_tfidf, y_train, y_test = classifiers.unbalanced_split(df)\n",
    "X_train_tfidf, X_test_tfidf, y_train, y_test, tfidf_columns = nlp_fake.tfidfed(X_train_tfidf, X_test_tfidf, y_train, y_test)\n",
    "X_train_mid = pd.DataFrame(X_train_tfidf.toarray(), columns=tfidf_columns)\n",
    "X_test_mid = pd.DataFrame(X_test_tfidf.toarray(), columns=tfidf_columns)\n",
    "X_train.reset_index(drop=True, inplace=True)\n",
    "X_test.reset_index(drop=True, inplace=True)\n",
    "X_test = pd.concat([X_test, X_test_mid], axis=1)\n",
    "X_train = pd.concat([X_train, X_train_mid], axis=1)\n",
    "print(X_train.shape)\n",
    "print(X_test.shape)\n",
    "classifiers.run_models(X_train, X_test, y_train, y_test)"
   ]
  },
  {
   "cell_type": "code",
   "execution_count": 6,
   "metadata": {
    "scrolled": true
   },
   "outputs": [
    {
     "name": "stderr",
     "output_type": "stream",
     "text": [
      "/Users/HZB/galv/capstone/cleaner.py:61: FutureWarning: 'comp_id' is both a column name and an index level.\n",
      "Defaulting to column but this will raise an ambiguity error in a future version\n",
      "  cumsum2 = clean_df.groupby(by=['comp_id', 'date','userID']).sum().groupby(level=[0]).cumsum()\n",
      "/Users/HZB/galv/capstone/cleaner.py:61: FutureWarning: 'date' is both a column name and an index level.\n",
      "Defaulting to column but this will raise an ambiguity error in a future version\n",
      "  cumsum2 = clean_df.groupby(by=['comp_id', 'date','userID']).sum().groupby(level=[0]).cumsum()\n",
      "/Users/HZB/galv/capstone/cleaner.py:61: FutureWarning: 'userID' is both a column name and an index level.\n",
      "Defaulting to column but this will raise an ambiguity error in a future version\n",
      "  cumsum2 = clean_df.groupby(by=['comp_id', 'date','userID']).sum().groupby(level=[0]).cumsum()\n",
      "/Users/HZB/galv/capstone/cleaner.py:69: FutureWarning: 'userID' is both a column name and an index level.\n",
      "Defaulting to column but this will raise an ambiguity error in a future version\n",
      "  cumsum2 = df5.groupby(by=['userID','date', 'comp_id']).sum().groupby(level=[0]).cumsum()\n",
      "/Users/HZB/galv/capstone/cleaner.py:69: FutureWarning: 'date' is both a column name and an index level.\n",
      "Defaulting to column but this will raise an ambiguity error in a future version\n",
      "  cumsum2 = df5.groupby(by=['userID','date', 'comp_id']).sum().groupby(level=[0]).cumsum()\n",
      "/Users/HZB/galv/capstone/cleaner.py:69: FutureWarning: 'comp_id' is both a column name and an index level.\n",
      "Defaulting to column but this will raise an ambiguity error in a future version\n",
      "  cumsum2 = df5.groupby(by=['userID','date', 'comp_id']).sum().groupby(level=[0]).cumsum()\n"
     ]
    }
   ],
   "source": [
    "import cleaner\n",
    "df = cleaner.cleanholdout()\n",
    "df = cleaner.cumulator(df)\n",
    "#print(df.head())\n",
    "import classifiers\n",
    "X_train, X_train_tfidf, X_test, X_test_tfidf, y_train, y_test = classifiers.unbalanced_split(df)"
   ]
  },
  {
   "cell_type": "code",
   "execution_count": 7,
   "metadata": {},
   "outputs": [],
   "source": [
    "import scores\n",
    "X_test_read = scores.get_scores(X_test_tfidf)"
   ]
  },
  {
   "cell_type": "code",
   "execution_count": 8,
   "metadata": {},
   "outputs": [],
   "source": [
    "X_train_read = scores.get_scores(X_train_tfidf)"
   ]
  },
  {
   "cell_type": "code",
   "execution_count": 9,
   "metadata": {},
   "outputs": [],
   "source": [
    "X_test_mid = np.asarray(X_test_read)"
   ]
  },
  {
   "cell_type": "code",
   "execution_count": 10,
   "metadata": {},
   "outputs": [],
   "source": [
    "X_train_mid = np.asarray(X_train_read) "
   ]
  },
  {
   "cell_type": "code",
   "execution_count": 11,
   "metadata": {},
   "outputs": [
    {
     "name": "stdout",
     "output_type": "stream",
     "text": [
      "False\n",
      "True\n"
     ]
    }
   ],
   "source": [
    "mat = X_train_mid\n",
    "print(np.any(np.isnan(mat)))\n",
    "print(np.all(np.isfinite(mat)))"
   ]
  },
  {
   "cell_type": "code",
   "execution_count": 12,
   "metadata": {},
   "outputs": [],
   "source": [
    "read_columns= [\"ARI\", \"FleschReadingEase\", \"FleschKincaidGradeLevel\", \"GunningFogIndex\",\"SMOGIndex\",\"ColemanLiauIndex\",\"LIX\",\"RIX\"]\n",
    "test_mid = pd.DataFrame(X_test_mid, columns=read_columns)"
   ]
  },
  {
   "cell_type": "code",
   "execution_count": 13,
   "metadata": {},
   "outputs": [],
   "source": [
    "train_mid = pd.DataFrame(X_train_mid, columns=read_columns)"
   ]
  },
  {
   "cell_type": "code",
   "execution_count": 14,
   "metadata": {},
   "outputs": [
    {
     "data": {
      "text/plain": [
       "274601"
      ]
     },
     "execution_count": 14,
     "metadata": {},
     "output_type": "execute_result"
    }
   ],
   "source": [
    "len(train_mid)"
   ]
  },
  {
   "cell_type": "code",
   "execution_count": 17,
   "metadata": {},
   "outputs": [
    {
     "data": {
      "text/html": [
       "<div>\n",
       "<style scoped>\n",
       "    .dataframe tbody tr th:only-of-type {\n",
       "        vertical-align: middle;\n",
       "    }\n",
       "\n",
       "    .dataframe tbody tr th {\n",
       "        vertical-align: top;\n",
       "    }\n",
       "\n",
       "    .dataframe thead th {\n",
       "        text-align: right;\n",
       "    }\n",
       "</style>\n",
       "<table border=\"1\" class=\"dataframe\">\n",
       "  <thead>\n",
       "    <tr style=\"text-align: right;\">\n",
       "      <th></th>\n",
       "      <th>ARI</th>\n",
       "      <th>FleschReadingEase</th>\n",
       "      <th>FleschKincaidGradeLevel</th>\n",
       "      <th>GunningFogIndex</th>\n",
       "      <th>SMOGIndex</th>\n",
       "      <th>ColemanLiauIndex</th>\n",
       "      <th>LIX</th>\n",
       "      <th>RIX</th>\n",
       "    </tr>\n",
       "  </thead>\n",
       "  <tbody>\n",
       "    <tr>\n",
       "      <th>0</th>\n",
       "      <td>6.754677</td>\n",
       "      <td>46.1429</td>\n",
       "      <td>8.7486</td>\n",
       "      <td>9.5516</td>\n",
       "      <td>9.123724</td>\n",
       "      <td>10.7290</td>\n",
       "      <td>36.782258</td>\n",
       "      <td>2.250000</td>\n",
       "    </tr>\n",
       "    <tr>\n",
       "      <th>1</th>\n",
       "      <td>3.817162</td>\n",
       "      <td>76.2625</td>\n",
       "      <td>4.9202</td>\n",
       "      <td>8.0243</td>\n",
       "      <td>8.477226</td>\n",
       "      <td>6.7454</td>\n",
       "      <td>30.871622</td>\n",
       "      <td>2.000000</td>\n",
       "    </tr>\n",
       "    <tr>\n",
       "      <th>2</th>\n",
       "      <td>5.916048</td>\n",
       "      <td>71.1685</td>\n",
       "      <td>6.5458</td>\n",
       "      <td>9.7094</td>\n",
       "      <td>9.633250</td>\n",
       "      <td>7.9907</td>\n",
       "      <td>32.520962</td>\n",
       "      <td>2.533333</td>\n",
       "    </tr>\n",
       "    <tr>\n",
       "      <th>3</th>\n",
       "      <td>3.949687</td>\n",
       "      <td>86.2613</td>\n",
       "      <td>4.2087</td>\n",
       "      <td>6.4667</td>\n",
       "      <td>6.872983</td>\n",
       "      <td>5.9349</td>\n",
       "      <td>18.250000</td>\n",
       "      <td>0.750000</td>\n",
       "    </tr>\n",
       "    <tr>\n",
       "      <th>4</th>\n",
       "      <td>6.549545</td>\n",
       "      <td>64.9245</td>\n",
       "      <td>6.9364</td>\n",
       "      <td>9.8545</td>\n",
       "      <td>9.708204</td>\n",
       "      <td>9.5841</td>\n",
       "      <td>31.454545</td>\n",
       "      <td>2.250000</td>\n",
       "    </tr>\n",
       "  </tbody>\n",
       "</table>\n",
       "</div>"
      ],
      "text/plain": [
       "        ARI  FleschReadingEase  FleschKincaidGradeLevel  GunningFogIndex  \\\n",
       "0  6.754677            46.1429                   8.7486           9.5516   \n",
       "1  3.817162            76.2625                   4.9202           8.0243   \n",
       "2  5.916048            71.1685                   6.5458           9.7094   \n",
       "3  3.949687            86.2613                   4.2087           6.4667   \n",
       "4  6.549545            64.9245                   6.9364           9.8545   \n",
       "\n",
       "   SMOGIndex  ColemanLiauIndex        LIX       RIX  \n",
       "0   9.123724           10.7290  36.782258  2.250000  \n",
       "1   8.477226            6.7454  30.871622  2.000000  \n",
       "2   9.633250            7.9907  32.520962  2.533333  \n",
       "3   6.872983            5.9349  18.250000  0.750000  \n",
       "4   9.708204            9.5841  31.454545  2.250000  "
      ]
     },
     "execution_count": 17,
     "metadata": {},
     "output_type": "execute_result"
    }
   ],
   "source": [
    "train_mid.head()"
   ]
  },
  {
   "cell_type": "code",
   "execution_count": 16,
   "metadata": {},
   "outputs": [
    {
     "data": {
      "text/html": [
       "<div>\n",
       "<style scoped>\n",
       "    .dataframe tbody tr th:only-of-type {\n",
       "        vertical-align: middle;\n",
       "    }\n",
       "\n",
       "    .dataframe tbody tr th {\n",
       "        vertical-align: top;\n",
       "    }\n",
       "\n",
       "    .dataframe thead th {\n",
       "        text-align: right;\n",
       "    }\n",
       "</style>\n",
       "<table border=\"1\" class=\"dataframe\">\n",
       "  <thead>\n",
       "    <tr style=\"text-align: right;\">\n",
       "      <th></th>\n",
       "      <th>ARI</th>\n",
       "      <th>FleschReadingEase</th>\n",
       "      <th>FleschKincaidGradeLevel</th>\n",
       "      <th>GunningFogIndex</th>\n",
       "      <th>SMOGIndex</th>\n",
       "      <th>ColemanLiauIndex</th>\n",
       "      <th>LIX</th>\n",
       "      <th>RIX</th>\n",
       "    </tr>\n",
       "  </thead>\n",
       "  <tbody>\n",
       "    <tr>\n",
       "      <th>count</th>\n",
       "      <td>48460.000000</td>\n",
       "      <td>48460.000000</td>\n",
       "      <td>48460.000000</td>\n",
       "      <td>48460.000000</td>\n",
       "      <td>48460.000000</td>\n",
       "      <td>48460.000000</td>\n",
       "      <td>48460.000000</td>\n",
       "      <td>48460.000000</td>\n",
       "    </tr>\n",
       "    <tr>\n",
       "      <th>mean</th>\n",
       "      <td>5.837691</td>\n",
       "      <td>75.965689</td>\n",
       "      <td>6.110213</td>\n",
       "      <td>9.202550</td>\n",
       "      <td>8.699548</td>\n",
       "      <td>6.879754</td>\n",
       "      <td>29.891459</td>\n",
       "      <td>2.172791</td>\n",
       "    </tr>\n",
       "    <tr>\n",
       "      <th>std</th>\n",
       "      <td>4.773288</td>\n",
       "      <td>15.282579</td>\n",
       "      <td>3.337252</td>\n",
       "      <td>3.605179</td>\n",
       "      <td>2.031026</td>\n",
       "      <td>4.166308</td>\n",
       "      <td>9.805815</td>\n",
       "      <td>1.352046</td>\n",
       "    </tr>\n",
       "    <tr>\n",
       "      <th>min</th>\n",
       "      <td>-16.220000</td>\n",
       "      <td>-470.980000</td>\n",
       "      <td>-15.200000</td>\n",
       "      <td>0.000000</td>\n",
       "      <td>0.000000</td>\n",
       "      <td>-52.240000</td>\n",
       "      <td>0.000000</td>\n",
       "      <td>0.000000</td>\n",
       "    </tr>\n",
       "    <tr>\n",
       "      <th>25%</th>\n",
       "      <td>3.722434</td>\n",
       "      <td>69.315050</td>\n",
       "      <td>4.382175</td>\n",
       "      <td>7.345400</td>\n",
       "      <td>7.629100</td>\n",
       "      <td>5.616375</td>\n",
       "      <td>24.672754</td>\n",
       "      <td>1.400000</td>\n",
       "    </tr>\n",
       "    <tr>\n",
       "      <th>50%</th>\n",
       "      <td>5.414267</td>\n",
       "      <td>76.772400</td>\n",
       "      <td>5.862600</td>\n",
       "      <td>8.961500</td>\n",
       "      <td>8.700877</td>\n",
       "      <td>6.919200</td>\n",
       "      <td>29.285714</td>\n",
       "      <td>2.000000</td>\n",
       "    </tr>\n",
       "    <tr>\n",
       "      <th>75%</th>\n",
       "      <td>7.334377</td>\n",
       "      <td>84.138800</td>\n",
       "      <td>7.431000</td>\n",
       "      <td>10.666700</td>\n",
       "      <td>9.831301</td>\n",
       "      <td>8.215000</td>\n",
       "      <td>34.172828</td>\n",
       "      <td>2.692308</td>\n",
       "    </tr>\n",
       "    <tr>\n",
       "      <th>max</th>\n",
       "      <td>553.690000</td>\n",
       "      <td>205.820000</td>\n",
       "      <td>125.811400</td>\n",
       "      <td>131.945700</td>\n",
       "      <td>29.832816</td>\n",
       "      <td>672.780000</td>\n",
       "      <td>334.493827</td>\n",
       "      <td>37.000000</td>\n",
       "    </tr>\n",
       "  </tbody>\n",
       "</table>\n",
       "</div>"
      ],
      "text/plain": [
       "                ARI  FleschReadingEase  FleschKincaidGradeLevel  \\\n",
       "count  48460.000000       48460.000000             48460.000000   \n",
       "mean       5.837691          75.965689                 6.110213   \n",
       "std        4.773288          15.282579                 3.337252   \n",
       "min      -16.220000        -470.980000               -15.200000   \n",
       "25%        3.722434          69.315050                 4.382175   \n",
       "50%        5.414267          76.772400                 5.862600   \n",
       "75%        7.334377          84.138800                 7.431000   \n",
       "max      553.690000         205.820000               125.811400   \n",
       "\n",
       "       GunningFogIndex     SMOGIndex  ColemanLiauIndex           LIX  \\\n",
       "count     48460.000000  48460.000000      48460.000000  48460.000000   \n",
       "mean          9.202550      8.699548          6.879754     29.891459   \n",
       "std           3.605179      2.031026          4.166308      9.805815   \n",
       "min           0.000000      0.000000        -52.240000      0.000000   \n",
       "25%           7.345400      7.629100          5.616375     24.672754   \n",
       "50%           8.961500      8.700877          6.919200     29.285714   \n",
       "75%          10.666700      9.831301          8.215000     34.172828   \n",
       "max         131.945700     29.832816        672.780000    334.493827   \n",
       "\n",
       "                RIX  \n",
       "count  48460.000000  \n",
       "mean       2.172791  \n",
       "std        1.352046  \n",
       "min        0.000000  \n",
       "25%        1.400000  \n",
       "50%        2.000000  \n",
       "75%        2.692308  \n",
       "max       37.000000  "
      ]
     },
     "execution_count": 16,
     "metadata": {},
     "output_type": "execute_result"
    }
   ],
   "source": [
    "test_mid.describe()"
   ]
  },
  {
   "cell_type": "code",
   "execution_count": 18,
   "metadata": {},
   "outputs": [],
   "source": [
    "X_train.reset_index(drop=True, inplace=True)\n",
    "X_test.reset_index(drop=True, inplace=True)"
   ]
  },
  {
   "cell_type": "code",
   "execution_count": 19,
   "metadata": {},
   "outputs": [],
   "source": [
    "X_train_new = pd.concat([X_train, train_mid], axis=1)"
   ]
  },
  {
   "cell_type": "code",
   "execution_count": 20,
   "metadata": {},
   "outputs": [],
   "source": [
    "X_test_new = pd.concat([X_test, test_mid], axis=1)"
   ]
  },
  {
   "cell_type": "code",
   "execution_count": 21,
   "metadata": {},
   "outputs": [
    {
     "data": {
      "text/html": [
       "<div>\n",
       "<style scoped>\n",
       "    .dataframe tbody tr th:only-of-type {\n",
       "        vertical-align: middle;\n",
       "    }\n",
       "\n",
       "    .dataframe tbody tr th {\n",
       "        vertical-align: top;\n",
       "    }\n",
       "\n",
       "    .dataframe thead th {\n",
       "        text-align: right;\n",
       "    }\n",
       "</style>\n",
       "<table border=\"1\" class=\"dataframe\">\n",
       "  <thead>\n",
       "    <tr style=\"text-align: right;\">\n",
       "      <th></th>\n",
       "      <th>rating</th>\n",
       "      <th>review_length</th>\n",
       "      <th>biz_rvws</th>\n",
       "      <th>user_rvws</th>\n",
       "      <th>avg_rating</th>\n",
       "      <th>past_filt</th>\n",
       "      <th>percent_filt</th>\n",
       "      <th>avg_rev_len</th>\n",
       "      <th>ARI</th>\n",
       "      <th>FleschReadingEase</th>\n",
       "      <th>FleschKincaidGradeLevel</th>\n",
       "      <th>GunningFogIndex</th>\n",
       "      <th>SMOGIndex</th>\n",
       "      <th>ColemanLiauIndex</th>\n",
       "      <th>LIX</th>\n",
       "      <th>RIX</th>\n",
       "    </tr>\n",
       "  </thead>\n",
       "  <tbody>\n",
       "    <tr>\n",
       "      <th>0</th>\n",
       "      <td>5.0</td>\n",
       "      <td>356</td>\n",
       "      <td>9</td>\n",
       "      <td>1</td>\n",
       "      <td>5.000000</td>\n",
       "      <td>0</td>\n",
       "      <td>0.0</td>\n",
       "      <td>356.000000</td>\n",
       "      <td>4.193831</td>\n",
       "      <td>87.0286</td>\n",
       "      <td>3.4629</td>\n",
       "      <td>5.5896</td>\n",
       "      <td>6.585686</td>\n",
       "      <td>7.1662</td>\n",
       "      <td>27.610390</td>\n",
       "      <td>1.714286</td>\n",
       "    </tr>\n",
       "    <tr>\n",
       "      <th>1</th>\n",
       "      <td>4.0</td>\n",
       "      <td>965</td>\n",
       "      <td>159</td>\n",
       "      <td>1</td>\n",
       "      <td>4.000000</td>\n",
       "      <td>0</td>\n",
       "      <td>0.0</td>\n",
       "      <td>965.000000</td>\n",
       "      <td>8.130483</td>\n",
       "      <td>73.9002</td>\n",
       "      <td>6.4504</td>\n",
       "      <td>10.6037</td>\n",
       "      <td>10.245688</td>\n",
       "      <td>10.2303</td>\n",
       "      <td>33.018245</td>\n",
       "      <td>2.666667</td>\n",
       "    </tr>\n",
       "    <tr>\n",
       "      <th>2</th>\n",
       "      <td>3.0</td>\n",
       "      <td>756</td>\n",
       "      <td>1037</td>\n",
       "      <td>14</td>\n",
       "      <td>3.928571</td>\n",
       "      <td>0</td>\n",
       "      <td>0.0</td>\n",
       "      <td>446.428571</td>\n",
       "      <td>4.969122</td>\n",
       "      <td>90.0644</td>\n",
       "      <td>4.3739</td>\n",
       "      <td>7.5416</td>\n",
       "      <td>7.242641</td>\n",
       "      <td>5.9320</td>\n",
       "      <td>29.664865</td>\n",
       "      <td>2.200000</td>\n",
       "    </tr>\n",
       "    <tr>\n",
       "      <th>3</th>\n",
       "      <td>5.0</td>\n",
       "      <td>1101</td>\n",
       "      <td>41</td>\n",
       "      <td>16</td>\n",
       "      <td>3.937500</td>\n",
       "      <td>0</td>\n",
       "      <td>0.0</td>\n",
       "      <td>698.875000</td>\n",
       "      <td>1.825796</td>\n",
       "      <td>95.0913</td>\n",
       "      <td>2.2418</td>\n",
       "      <td>6.9788</td>\n",
       "      <td>7.774935</td>\n",
       "      <td>4.3111</td>\n",
       "      <td>25.411681</td>\n",
       "      <td>1.480000</td>\n",
       "    </tr>\n",
       "    <tr>\n",
       "      <th>4</th>\n",
       "      <td>4.0</td>\n",
       "      <td>701</td>\n",
       "      <td>9</td>\n",
       "      <td>3</td>\n",
       "      <td>4.333333</td>\n",
       "      <td>0</td>\n",
       "      <td>0.0</td>\n",
       "      <td>461.000000</td>\n",
       "      <td>1.511143</td>\n",
       "      <td>97.2600</td>\n",
       "      <td>2.3552</td>\n",
       "      <td>6.9524</td>\n",
       "      <td>7.629100</td>\n",
       "      <td>3.3893</td>\n",
       "      <td>18.714286</td>\n",
       "      <td>0.857143</td>\n",
       "    </tr>\n",
       "  </tbody>\n",
       "</table>\n",
       "</div>"
      ],
      "text/plain": [
       "   rating  review_length  biz_rvws  user_rvws  avg_rating  past_filt  \\\n",
       "0     5.0            356         9          1    5.000000          0   \n",
       "1     4.0            965       159          1    4.000000          0   \n",
       "2     3.0            756      1037         14    3.928571          0   \n",
       "3     5.0           1101        41         16    3.937500          0   \n",
       "4     4.0            701         9          3    4.333333          0   \n",
       "\n",
       "   percent_filt  avg_rev_len       ARI  FleschReadingEase  \\\n",
       "0           0.0   356.000000  4.193831            87.0286   \n",
       "1           0.0   965.000000  8.130483            73.9002   \n",
       "2           0.0   446.428571  4.969122            90.0644   \n",
       "3           0.0   698.875000  1.825796            95.0913   \n",
       "4           0.0   461.000000  1.511143            97.2600   \n",
       "\n",
       "   FleschKincaidGradeLevel  GunningFogIndex  SMOGIndex  ColemanLiauIndex  \\\n",
       "0                   3.4629           5.5896   6.585686            7.1662   \n",
       "1                   6.4504          10.6037  10.245688           10.2303   \n",
       "2                   4.3739           7.5416   7.242641            5.9320   \n",
       "3                   2.2418           6.9788   7.774935            4.3111   \n",
       "4                   2.3552           6.9524   7.629100            3.3893   \n",
       "\n",
       "         LIX       RIX  \n",
       "0  27.610390  1.714286  \n",
       "1  33.018245  2.666667  \n",
       "2  29.664865  2.200000  \n",
       "3  25.411681  1.480000  \n",
       "4  18.714286  0.857143  "
      ]
     },
     "execution_count": 21,
     "metadata": {},
     "output_type": "execute_result"
    }
   ],
   "source": [
    "X_test_new.head()"
   ]
  },
  {
   "cell_type": "code",
   "execution_count": 67,
   "metadata": {},
   "outputs": [
    {
     "data": {
      "text/plain": [
       "True"
      ]
     },
     "execution_count": 67,
     "metadata": {},
     "output_type": "execute_result"
    }
   ],
   "source": [
    "mat = blah\n",
    "np.any(np.isnan(mat))\n",
    "np.all(np.isfinite(mat))"
   ]
  },
  {
   "cell_type": "code",
   "execution_count": 24,
   "metadata": {},
   "outputs": [],
   "source": [
    "import nlp_fake"
   ]
  },
  {
   "cell_type": "code",
   "execution_count": 25,
   "metadata": {},
   "outputs": [
    {
     "name": "stdout",
     "output_type": "stream",
     "text": [
      "(274601, 5016)\n",
      "(48460, 5016)\n"
     ]
    }
   ],
   "source": [
    "X_train_tfidf, X_test_tfidf, y_train, y_test, tfidf_columns = nlp_fake.tfidfed(X_train_tfidf, X_test_tfidf, y_train, y_test)\n",
    "X_train_mid = pd.DataFrame(X_train_tfidf.toarray(), columns=tfidf_columns)\n",
    "X_test_mid = pd.DataFrame(X_test_tfidf.toarray(), columns=tfidf_columns)\n",
    "# X_train.reset_index(drop=True, inplace=True)\n",
    "# X_test.reset_index(drop=True, inplace=True)\n",
    "X_test_new = pd.concat([X_test_new, X_test_mid], axis=1)\n",
    "X_train_new = pd.concat([X_train_new, X_train_mid], axis=1)\n",
    "print(X_train_new.shape)\n",
    "print(X_test_new.shape)\n"
   ]
  },
  {
   "cell_type": "code",
   "execution_count": null,
   "metadata": {},
   "outputs": [
    {
     "name": "stdout",
     "output_type": "stream",
     "text": [
      "RandomForestClassifier(bootstrap=True, class_weight={0: 0.1, 1: 0.9},\n",
      "            criterion='gini', max_depth=3, max_features='auto',\n",
      "            max_leaf_nodes=None, min_impurity_decrease=0.0,\n",
      "            min_impurity_split=None, min_samples_leaf=1,\n",
      "            min_samples_split=2, min_weight_fraction_leaf=0.0,\n",
      "            n_estimators=200, n_jobs=1, oob_score=False, random_state=0,\n",
      "            verbose=0, warm_start=False) Results [[26907 16522]\n",
      " [ 1049  3982]]\n",
      "\n",
      "\n",
      "             precision    recall  f1-score   support\n",
      "\n",
      "          0       0.96      0.62      0.75     43429\n",
      "          1       0.19      0.79      0.31      5031\n",
      "\n",
      "avg / total       0.88      0.64      0.71     48460\n",
      "\n",
      "0.6374122988031367\n",
      "LogisticRegression(C=1.0, class_weight='balanced', dual=False,\n",
      "          fit_intercept=True, intercept_scaling=1, max_iter=100,\n",
      "          multi_class='ovr', n_jobs=1, penalty='l2', random_state=None,\n",
      "          solver='liblinear', tol=0.0001, verbose=0, warm_start=False) Results [[27100 16329]\n",
      " [  232  4799]]\n",
      "\n",
      "\n",
      "             precision    recall  f1-score   support\n",
      "\n",
      "          0       0.99      0.62      0.77     43429\n",
      "          1       0.23      0.95      0.37      5031\n",
      "\n",
      "avg / total       0.91      0.66      0.72     48460\n",
      "\n",
      "0.6582542302930252\n"
     ]
    }
   ],
   "source": [
    "classifiers.run_models(X_train_new, X_test_new, y_train, y_test)"
   ]
  },
  {
   "cell_type": "code",
   "execution_count": 44,
   "metadata": {},
   "outputs": [
    {
     "name": "stdout",
     "output_type": "stream",
     "text": [
      "(274601, 8)\n",
      "(48460, 8)\n",
      "RandomForestClassifier(bootstrap=True, class_weight={0: 0.1, 1: 0.9},\n",
      "            criterion='gini', max_depth=3, max_features='auto',\n",
      "            max_leaf_nodes=None, min_impurity_decrease=0.0,\n",
      "            min_impurity_split=None, min_samples_leaf=1,\n",
      "            min_samples_split=2, min_weight_fraction_leaf=0.0,\n",
      "            n_estimators=40, n_jobs=1, oob_score=False, random_state=0,\n",
      "            verbose=0, warm_start=False) Results [[29230 14199]\n",
      " [  424  4607]]\n",
      "\n",
      "\n",
      "Feature importance: {clf.feature_importances_}\n",
      "             precision    recall  f1-score   support\n",
      "\n",
      "          0       0.99      0.67      0.80     43429\n",
      "          1       0.24      0.92      0.39      5031\n",
      "\n",
      "avg / total       0.91      0.70      0.76     48460\n",
      "\n"
     ]
    }
   ],
   "source": [
    "print(X_train.shape)\n",
    "print(X_test.shape)\n",
    "classifiers.run_models(X_train, X_test, y_train, y_test)"
   ]
  },
  {
   "cell_type": "code",
   "execution_count": 64,
   "metadata": {},
   "outputs": [
    {
     "name": "stdout",
     "output_type": "stream",
     "text": [
      "(274601, 16)\n",
      "(48460, 16)\n",
      "RandomForestClassifier(bootstrap=True, class_weight={0: 0.1, 1: 0.9},\n",
      "            criterion='gini', max_depth=3, max_features='auto',\n",
      "            max_leaf_nodes=None, min_impurity_decrease=0.0,\n",
      "            min_impurity_split=None, min_samples_leaf=1,\n",
      "            min_samples_split=2, min_weight_fraction_leaf=0.0,\n",
      "            n_estimators=200, n_jobs=1, oob_score=False, random_state=0,\n",
      "            verbose=0, warm_start=False) Results [[29650 13779]\n",
      " [  495  4536]]\n",
      "\n",
      "\n",
      "Feature importance: ['0.03292', '0.04337', '0.00061', '0.31784', '0.06222', '0.20453', '0.24556', '0.07838', '0.00149', '0.00007', '0.00023', '0.00106', '0.00225', '0.00297', '0.00113', '0.00536']\n",
      "             precision    recall  f1-score   support\n",
      "\n",
      "          0       0.98      0.68      0.81     43429\n",
      "          1       0.25      0.90      0.39      5031\n",
      "\n",
      "avg / total       0.91      0.71      0.76     48460\n",
      "\n"
     ]
    }
   ],
   "source": [
    "print(X_train_new.shape)\n",
    "print(X_test_new.shape)\n",
    "classifiers.run_models(X_train_new, X_test_new, y_train, y_test)"
   ]
  },
  {
   "cell_type": "code",
   "execution_count": 65,
   "metadata": {},
   "outputs": [
    {
     "data": {
      "text/html": [
       "<div>\n",
       "<style scoped>\n",
       "    .dataframe tbody tr th:only-of-type {\n",
       "        vertical-align: middle;\n",
       "    }\n",
       "\n",
       "    .dataframe tbody tr th {\n",
       "        vertical-align: top;\n",
       "    }\n",
       "\n",
       "    .dataframe thead th {\n",
       "        text-align: right;\n",
       "    }\n",
       "</style>\n",
       "<table border=\"1\" class=\"dataframe\">\n",
       "  <thead>\n",
       "    <tr style=\"text-align: right;\">\n",
       "      <th></th>\n",
       "      <th>rating</th>\n",
       "      <th>review_length</th>\n",
       "      <th>biz_rvws</th>\n",
       "      <th>user_rvws</th>\n",
       "      <th>avg_rating</th>\n",
       "      <th>past_filt</th>\n",
       "      <th>percent_filt</th>\n",
       "      <th>avg_rev_len</th>\n",
       "      <th>ARI</th>\n",
       "      <th>FleschReadingEase</th>\n",
       "      <th>FleschKincaidGradeLevel</th>\n",
       "      <th>GunningFogIndex</th>\n",
       "      <th>SMOGIndex</th>\n",
       "      <th>ColemanLiauIndex</th>\n",
       "      <th>LIX</th>\n",
       "      <th>RIX</th>\n",
       "    </tr>\n",
       "  </thead>\n",
       "  <tbody>\n",
       "    <tr>\n",
       "      <th>0</th>\n",
       "      <td>5.0</td>\n",
       "      <td>356</td>\n",
       "      <td>9</td>\n",
       "      <td>1</td>\n",
       "      <td>5.000000</td>\n",
       "      <td>0</td>\n",
       "      <td>0.0</td>\n",
       "      <td>356.000000</td>\n",
       "      <td>4.193831</td>\n",
       "      <td>87.0286</td>\n",
       "      <td>3.4629</td>\n",
       "      <td>5.5896</td>\n",
       "      <td>6.585686</td>\n",
       "      <td>7.1662</td>\n",
       "      <td>27.610390</td>\n",
       "      <td>1.714286</td>\n",
       "    </tr>\n",
       "    <tr>\n",
       "      <th>1</th>\n",
       "      <td>4.0</td>\n",
       "      <td>965</td>\n",
       "      <td>159</td>\n",
       "      <td>1</td>\n",
       "      <td>4.000000</td>\n",
       "      <td>0</td>\n",
       "      <td>0.0</td>\n",
       "      <td>965.000000</td>\n",
       "      <td>8.130483</td>\n",
       "      <td>73.9002</td>\n",
       "      <td>6.4504</td>\n",
       "      <td>10.6037</td>\n",
       "      <td>10.245688</td>\n",
       "      <td>10.2303</td>\n",
       "      <td>33.018245</td>\n",
       "      <td>2.666667</td>\n",
       "    </tr>\n",
       "    <tr>\n",
       "      <th>2</th>\n",
       "      <td>3.0</td>\n",
       "      <td>756</td>\n",
       "      <td>1037</td>\n",
       "      <td>14</td>\n",
       "      <td>3.928571</td>\n",
       "      <td>0</td>\n",
       "      <td>0.0</td>\n",
       "      <td>446.428571</td>\n",
       "      <td>4.969122</td>\n",
       "      <td>90.0644</td>\n",
       "      <td>4.3739</td>\n",
       "      <td>7.5416</td>\n",
       "      <td>7.242641</td>\n",
       "      <td>5.9320</td>\n",
       "      <td>29.664865</td>\n",
       "      <td>2.200000</td>\n",
       "    </tr>\n",
       "    <tr>\n",
       "      <th>3</th>\n",
       "      <td>5.0</td>\n",
       "      <td>1101</td>\n",
       "      <td>41</td>\n",
       "      <td>16</td>\n",
       "      <td>3.937500</td>\n",
       "      <td>0</td>\n",
       "      <td>0.0</td>\n",
       "      <td>698.875000</td>\n",
       "      <td>1.825796</td>\n",
       "      <td>95.0913</td>\n",
       "      <td>2.2418</td>\n",
       "      <td>6.9788</td>\n",
       "      <td>7.774935</td>\n",
       "      <td>4.3111</td>\n",
       "      <td>25.411681</td>\n",
       "      <td>1.480000</td>\n",
       "    </tr>\n",
       "    <tr>\n",
       "      <th>4</th>\n",
       "      <td>4.0</td>\n",
       "      <td>701</td>\n",
       "      <td>9</td>\n",
       "      <td>3</td>\n",
       "      <td>4.333333</td>\n",
       "      <td>0</td>\n",
       "      <td>0.0</td>\n",
       "      <td>461.000000</td>\n",
       "      <td>1.511143</td>\n",
       "      <td>97.2600</td>\n",
       "      <td>2.3552</td>\n",
       "      <td>6.9524</td>\n",
       "      <td>7.629100</td>\n",
       "      <td>3.3893</td>\n",
       "      <td>18.714286</td>\n",
       "      <td>0.857143</td>\n",
       "    </tr>\n",
       "  </tbody>\n",
       "</table>\n",
       "</div>"
      ],
      "text/plain": [
       "   rating  review_length  biz_rvws  user_rvws  avg_rating  past_filt  \\\n",
       "0     5.0            356         9          1    5.000000          0   \n",
       "1     4.0            965       159          1    4.000000          0   \n",
       "2     3.0            756      1037         14    3.928571          0   \n",
       "3     5.0           1101        41         16    3.937500          0   \n",
       "4     4.0            701         9          3    4.333333          0   \n",
       "\n",
       "   percent_filt  avg_rev_len       ARI  FleschReadingEase  \\\n",
       "0           0.0   356.000000  4.193831            87.0286   \n",
       "1           0.0   965.000000  8.130483            73.9002   \n",
       "2           0.0   446.428571  4.969122            90.0644   \n",
       "3           0.0   698.875000  1.825796            95.0913   \n",
       "4           0.0   461.000000  1.511143            97.2600   \n",
       "\n",
       "   FleschKincaidGradeLevel  GunningFogIndex  SMOGIndex  ColemanLiauIndex  \\\n",
       "0                   3.4629           5.5896   6.585686            7.1662   \n",
       "1                   6.4504          10.6037  10.245688           10.2303   \n",
       "2                   4.3739           7.5416   7.242641            5.9320   \n",
       "3                   2.2418           6.9788   7.774935            4.3111   \n",
       "4                   2.3552           6.9524   7.629100            3.3893   \n",
       "\n",
       "         LIX       RIX  \n",
       "0  27.610390  1.714286  \n",
       "1  33.018245  2.666667  \n",
       "2  29.664865  2.200000  \n",
       "3  25.411681  1.480000  \n",
       "4  18.714286  0.857143  "
      ]
     },
     "execution_count": 65,
     "metadata": {},
     "output_type": "execute_result"
    }
   ],
   "source": [
    "X_test_new.head()"
   ]
  },
  {
   "cell_type": "code",
   "execution_count": 55,
   "metadata": {},
   "outputs": [
    {
     "ename": "TypeError",
     "evalue": "type list doesn't define __round__ method",
     "output_type": "error",
     "traceback": [
      "\u001b[0;31m---------------------------------------------------------------------------\u001b[0m",
      "\u001b[0;31mTypeError\u001b[0m                                 Traceback (most recent call last)",
      "\u001b[0;32m<ipython-input-55-e093014d125d>\u001b[0m in \u001b[0;36m<module>\u001b[0;34m()\u001b[0m\n\u001b[0;32m----> 1\u001b[0;31m \u001b[0mF\u001b[0m \u001b[0;34m=\u001b[0m \u001b[0mround\u001b[0m\u001b[0;34m(\u001b[0m\u001b[0mF\u001b[0m\u001b[0;34m,\u001b[0m\u001b[0;36m4\u001b[0m\u001b[0;34m)\u001b[0m\u001b[0;34m\u001b[0m\u001b[0m\n\u001b[0m",
      "\u001b[0;31mTypeError\u001b[0m: type list doesn't define __round__ method"
     ]
    }
   ],
   "source": [
    "F = round(F,4)"
   ]
  },
  {
   "cell_type": "code",
   "execution_count": 62,
   "metadata": {},
   "outputs": [],
   "source": [
    "F2 = [ '%.5f' % elem for elem in F ]"
   ]
  },
  {
   "cell_type": "code",
   "execution_count": 63,
   "metadata": {},
   "outputs": [
    {
     "data": {
      "text/plain": [
       "['0.00329', '0.00039', '0.03292']"
      ]
     },
     "execution_count": 63,
     "metadata": {},
     "output_type": "execute_result"
    }
   ],
   "source": [
    "F2"
   ]
  },
  {
   "cell_type": "code",
   "execution_count": null,
   "metadata": {},
   "outputs": [],
   "source": []
  }
 ],
 "metadata": {
  "kernelspec": {
   "display_name": "Python 3",
   "language": "python",
   "name": "python3"
  },
  "language_info": {
   "codemirror_mode": {
    "name": "ipython",
    "version": 3
   },
   "file_extension": ".py",
   "mimetype": "text/x-python",
   "name": "python",
   "nbconvert_exporter": "python",
   "pygments_lexer": "ipython3",
   "version": "3.6.5"
  }
 },
 "nbformat": 4,
 "nbformat_minor": 2
}
